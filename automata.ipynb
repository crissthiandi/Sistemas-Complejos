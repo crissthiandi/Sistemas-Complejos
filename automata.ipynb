{
 "cells": [
  {
   "cell_type": "code",
   "execution_count": 1,
   "metadata": {},
   "outputs": [],
   "source": [
    "import numpy as np\n",
    "from PIL import Image #Tratamiento de imagenes en python3\n",
    "\n",
    "#Dimenciones de la imagen, WINDTH * HEIGHT es el numero de pixeles en el grafico\n",
    "WIDTH = 1024\n",
    "HEIGHT = 1024\n"
   ]
  },
  {
   "cell_type": "code",
   "execution_count": 2,
   "metadata": {},
   "outputs": [],
   "source": [
    "class Automata(object):\n",
    "    \"\"\"\n",
    "    Esta es la clase que define el objeto automata que sera el que ayuda a \n",
    "    poder completar los elementos\n",
    "    \"\"\"\n",
    "    rules = list() #create a list to save rule in binary version\n",
    "\n",
    "    def __init__(self,idx=0):\n",
    "        self.idx = idx\n",
    "        self.state = False\n",
    "        self.statePrev = False\n"
   ]
  },
  {
   "cell_type": "code",
   "execution_count": 3,
   "metadata": {},
   "outputs": [],
   "source": [
    "\n",
    "class Imagen(object):\n",
    "    \"\"\"\n",
    "    \n",
    "    \"\"\"\n",
    "    def __init__(self,rule=50):\n",
    "        self.rule = rule\n",
    "        self.im = Image.new(\"L\",(WIDTH,HEIGHT)) #Crea imagen estas variables son de un scope superior\n",
    "        self.data = np.zeros(WIDTH*HEIGHT,dtype=np.uint8) #Matriz de datos px \n",
    "        b = bin(rule)[2:].zfill(8) #Convert rule to dinary\n",
    "        Automata.rules = [True if c == \"1\" else False for c in b] #convert 0 and 1 to T and F\n",
    "        print(Automata.rules) #imprime las reglas para vizualizar 0 y 1 to True and False\n",
    "        self.list = list() #create a list to save \n",
    "        self.step = 0\n",
    "    \n",
    "    def add(self):\n",
    "        automata = Automata(len(self.list)) #create object automata, length \n",
    "        self.list.append(automata)\n",
    "\n",
    "    def update(self):\n",
    "        for automata in self.list:\n",
    "\n",
    "            automata.statePrev = automata.state\n",
    "            p = self.list[automata.idx - 1].statePrev if automata.idx > 0 else False\n",
    "            n = self.list[automata.idx + 1].state if automata.idx < len(self.list)-1 else False\n",
    "            s = automata.state\n",
    "\n",
    "            if p and s and n:\n",
    "                automata.state = automata.rules[0]\n",
    "            elif p and s and not n:\n",
    "                automata.state = automata.rules[1]\n",
    "            elif p and not s and n:\n",
    "                automata.state = automata.rules[2]\n",
    "            elif p and not s and not n:\n",
    "                automata.state = automata.rules[3]\n",
    "            elif not p and s and n:\n",
    "                automata.state = automata.rules[4]\n",
    "            elif not p and s and not n:\n",
    "                automata.state = automata.rules[5]\n",
    "            elif not p and not s and n:\n",
    "                automata.state = automata.rules[6]\n",
    "            elif not p and not s and not n:\n",
    "                automata.state = automata.rules[7]\n",
    "            \n",
    "\n",
    "    def draw_row(self):\n",
    "        if self.step == 0:\n",
    "            middle = (len(self.list) // 2)\n",
    "            self.list[middle].state = True\n",
    "        for i,automata in enumerate(self.list):\n",
    "            if automata.state:\n",
    "                self.data[self.step*HEIGHT+i] = 255\n",
    "        self.step += 1\n",
    "    def save(self):\n",
    "        self.im.putdata(self.data)\n",
    "        self.im.save(\"RULE-%d.png\" % self.rule)\n",
    "    def __str__(self):\n",
    "        s = str()\n",
    "        for l in self.list:\n",
    "            s += \"T\" if l.state else \"F\"\n",
    "        return s\n"
   ]
  },
  {
   "cell_type": "code",
   "execution_count": 17,
   "metadata": {},
   "outputs": [
    {
     "data": {
      "text/plain": [
       "<__main__.Automata at 0x20934c031c8>"
      ]
     },
     "execution_count": 17,
     "metadata": {},
     "output_type": "execute_result"
    }
   ],
   "source": [
    "check=Automata(len(list()))\n",
    "check"
   ]
  },
  {
   "cell_type": "code",
   "execution_count": 4,
   "metadata": {},
   "outputs": [],
   "source": [
    "def img_run(rule):\n",
    "    img_rule = Imagen(rule)\n",
    "    for _ in range(WIDTH):\n",
    "        img_rule.add()\n",
    "\n",
    "    for _ in range(HEIGHT):\n",
    "        img_rule.draw_row()\n",
    "        img_rule.update()\n",
    "    img_rule.save()\n",
    "\n",
    "def main():\n",
    "    rule = input(\"Rule: \")\n",
    "    try:\n",
    "        rule = int(rule)\n",
    "        if 255 >= rule >= 0:\n",
    "            img_run(rule)\n",
    "            print(\"Check for the generated RULE-%d.png file\" % rule)\n",
    "        else:\n",
    "            raise ValueError\n",
    "    except ValueError:\n",
    "        print(\"Please, insert a number between 0 and 255\")\n",
    "        main()\n"
   ]
  },
  {
   "cell_type": "code",
   "execution_count": 5,
   "metadata": {},
   "outputs": [
    {
     "name": "stdout",
     "output_type": "stream",
     "text": [
      "Rule: 15\n",
      "[False, False, False, False, True, True, True, True]\n",
      "Check for the generated RULE-15.png file\n"
     ]
    }
   ],
   "source": [
    "if __name__ == \"__main__\":\n",
    "    main()"
   ]
  },
  {
   "cell_type": "markdown",
   "metadata": {},
   "source": [
    "<img src=\"RULE-15.png\">\n",
    "<img src=\"RULE-126.png\">\n",
    "<img src=\"RULE-110.png\">\n",
    "<img src=\"RULE-30-1.png\">\n",
    "<img src=\"RULE-180.png\">\n",
    "<img src=\"RULE-15.png\">\n",
    "<img src=\"RULE-4.png\">\n",
    "<img src=\"RULE-23.png\">\n",
    "<img src=\"RULE-90.png\">\n",
    "<img src=\"RULE-115.png\">\n",
    "\n",
    "\n",
    "\n"
   ]
  }
 ],
 "metadata": {
  "kernelspec": {
   "display_name": "Python 3",
   "language": "python",
   "name": "python3"
  },
  "language_info": {
   "codemirror_mode": {
    "name": "ipython",
    "version": 3
   },
   "file_extension": ".py",
   "mimetype": "text/x-python",
   "name": "python",
   "nbconvert_exporter": "python",
   "pygments_lexer": "ipython3",
   "version": "3.7.9"
  }
 },
 "nbformat": 4,
 "nbformat_minor": 4
}
