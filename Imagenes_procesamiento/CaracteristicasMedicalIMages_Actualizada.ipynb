{
  "nbformat": 4,
  "nbformat_minor": 0,
  "metadata": {
    "colab": {
      "name": "Copia de caracteristicasMedicalIMages Actualizada",
      "provenance": [],
      "collapsed_sections": [
        "OUmwAPuItb0-",
        "r8Tj-PTsCekH",
        "gzF0MtDPt3hi",
        "KUvVdVhNQn1d",
        "_dNtQbJDYcdv",
        "vo18ySVOe6nC",
        "Ts-fCRXChv29",
        "oLIRQmmWkbnH",
        "Ua_lyTnitPbL",
        "oZ9MxAczwlpq"
      ],
      "toc_visible": true
    },
    "kernelspec": {
      "name": "python3",
      "display_name": "Python 3"
    }
  },
  "cells": [
    {
      "cell_type": "markdown",
      "metadata": {
        "id": "gt7L-lHR2DqT"
      },
      "source": [
        "**Extracción de características para análisis de imágenes médicas**\n",
        "\n",
        "**Objetivo**\n",
        "\n",
        "Crear una base de datos de imágenes médicas de tumores cerebrales de alto y bajo grado, extrayendo características de textura y forma para posteriormente hacer la predicción del grado utilizando aprendizaje automático."
      ]
    },
    {
      "cell_type": "markdown",
      "metadata": {
        "id": "OUmwAPuItb0-"
      },
      "source": [
        "## Preparación del entorno\n"
      ]
    },
    {
      "cell_type": "code",
      "metadata": {
        "id": "wCo1qhWk_ECO",
        "colab": {
          "base_uri": "https://localhost:8080/"
        },
        "outputId": "aa99b662-f345-432c-c6a7-9566570d59a5"
      },
      "source": [
        "#Instalación de los módulos faltantes\n",
        "!pip install SimpleITK\n",
        "!pip install mahotas\n",
        "!pip install gdown\n",
        "\n",
        "#Importación de algunos módulos a utilizar\n",
        "import SimpleITK as sitk\n",
        "import matplotlib.pyplot as plt\n",
        "import numpy as np\n",
        "import os\n",
        "from glob import glob"
      ],
      "execution_count": null,
      "outputs": [
        {
          "output_type": "stream",
          "text": [
            "Collecting SimpleITK\n",
            "\u001b[?25l  Downloading https://files.pythonhosted.org/packages/cc/85/6a7ce61f07cdaca722dd64f028b5678fb0a9e1bf66f534c2f8dd2eb78490/SimpleITK-2.0.2-cp36-cp36m-manylinux2010_x86_64.whl (47.4MB)\n",
            "\u001b[K     |████████████████████████████████| 47.4MB 92kB/s \n",
            "\u001b[?25hInstalling collected packages: SimpleITK\n",
            "Successfully installed SimpleITK-2.0.2\n",
            "Collecting mahotas\n",
            "\u001b[?25l  Downloading https://files.pythonhosted.org/packages/ce/3b/1f3fe2f86ffdb4a2fbc6baaf4ef0e6cebdd3e127de44ddd188dc2ed0d412/mahotas-1.4.11-cp36-cp36m-manylinux2010_x86_64.whl (5.7MB)\n",
            "\u001b[K     |████████████████████████████████| 5.7MB 3.4MB/s \n",
            "\u001b[?25hRequirement already satisfied: numpy in /usr/local/lib/python3.6/dist-packages (from mahotas) (1.18.5)\n",
            "Installing collected packages: mahotas\n",
            "Successfully installed mahotas-1.4.11\n"
          ],
          "name": "stdout"
        }
      ]
    },
    {
      "cell_type": "markdown",
      "metadata": {
        "id": "r8Tj-PTsCekH"
      },
      "source": [
        "# Sección nueva"
      ]
    },
    {
      "cell_type": "markdown",
      "metadata": {
        "id": "-G3LYc0dCfWh"
      },
      "source": [
        "# Sección nueva"
      ]
    },
    {
      "cell_type": "code",
      "metadata": {
        "id": "gDJm7syeypjq",
        "colab": {
          "base_uri": "https://localhost:8080/"
        },
        "outputId": "376bd0bf-7eb8-4755-f020-69fd137b995c"
      },
      "source": [
        "import gdown\n",
        "!gdown --id 1jn7az_tfDQiiLNiUy3TdhPiNcFp2bGId\n",
        "!unzip Gliomas.zip"
      ],
      "execution_count": null,
      "outputs": [
        {
          "output_type": "stream",
          "text": [
            "Downloading...\n",
            "From: https://drive.google.com/uc?id=1jn7az_tfDQiiLNiUy3TdhPiNcFp2bGId\n",
            "To: /content/Gliomas.zip\n",
            "225MB [00:02, 82.5MB/s]\n",
            "Archive:  Gliomas.zip\n",
            "   creating: Gliomas Images/\n",
            "   creating: Gliomas Images/HG/\n",
            "   creating: Gliomas Images/HG/0001/\n",
            "   creating: Gliomas Images/HG/0001/VSD.Brain.XX.O.MR_Flair/\n",
            "  inflating: Gliomas Images/HG/0001/VSD.Brain.XX.O.MR_Flair/License_CC_BY_NC_SA_3.0.txt  \n",
            "  inflating: Gliomas Images/HG/0001/VSD.Brain.XX.O.MR_Flair/VSD.Brain.XX.O.MR_Flair.684.mha  \n",
            "   creating: Gliomas Images/HG/0001/VSD.Brain.XX.O.MR_T1/\n",
            "  inflating: Gliomas Images/HG/0001/VSD.Brain.XX.O.MR_T1/License_CC_BY_NC_SA_3.0.txt  \n",
            "  inflating: Gliomas Images/HG/0001/VSD.Brain.XX.O.MR_T1/VSD.Brain.XX.O.MR_T1.685.mha  \n",
            "   creating: Gliomas Images/HG/0001/VSD.Brain.XX.O.MR_T1c/\n",
            "  inflating: Gliomas Images/HG/0001/VSD.Brain.XX.O.MR_T1c/License_CC_BY_NC_SA_3.0.txt  \n",
            "  inflating: Gliomas Images/HG/0001/VSD.Brain.XX.O.MR_T1c/VSD.Brain.XX.O.MR_T1c.686.mha  \n",
            "   creating: Gliomas Images/HG/0001/VSD.Brain.XX.O.MR_T2/\n",
            "  inflating: Gliomas Images/HG/0001/VSD.Brain.XX.O.MR_T2/License_CC_BY_NC_SA_3.0.txt  \n",
            "  inflating: Gliomas Images/HG/0001/VSD.Brain.XX.O.MR_T2/VSD.Brain.XX.O.MR_T2.687.mha  \n",
            "   creating: Gliomas Images/HG/0001/VSD.Brain_3more.XX.XX.OT/\n",
            "  inflating: Gliomas Images/HG/0001/VSD.Brain_3more.XX.XX.OT/VSD.Brain_3more.XX.XX.OT.6560.mha  \n",
            "   creating: Gliomas Images/HG/0002/\n",
            "   creating: Gliomas Images/HG/0002/VSD.Brain.XX.O.MR_Flair/\n",
            "  inflating: Gliomas Images/HG/0002/VSD.Brain.XX.O.MR_Flair/License_CC_BY_NC_SA_3.0.txt  \n",
            "  inflating: Gliomas Images/HG/0002/VSD.Brain.XX.O.MR_Flair/VSD.Brain.XX.O.MR_Flair.691.mha  \n",
            "   creating: Gliomas Images/HG/0002/VSD.Brain.XX.O.MR_T1/\n",
            "  inflating: Gliomas Images/HG/0002/VSD.Brain.XX.O.MR_T1/License_CC_BY_NC_SA_3.0.txt  \n",
            "  inflating: Gliomas Images/HG/0002/VSD.Brain.XX.O.MR_T1/VSD.Brain.XX.O.MR_T1.692.mha  \n",
            "   creating: Gliomas Images/HG/0002/VSD.Brain.XX.O.MR_T1c/\n",
            "  inflating: Gliomas Images/HG/0002/VSD.Brain.XX.O.MR_T1c/License_CC_BY_NC_SA_3.0.txt  \n",
            "  inflating: Gliomas Images/HG/0002/VSD.Brain.XX.O.MR_T1c/VSD.Brain.XX.O.MR_T1c.693.mha  \n",
            "   creating: Gliomas Images/HG/0002/VSD.Brain.XX.O.MR_T2/\n",
            "  inflating: Gliomas Images/HG/0002/VSD.Brain.XX.O.MR_T2/License_CC_BY_NC_SA_3.0.txt  \n",
            "  inflating: Gliomas Images/HG/0002/VSD.Brain.XX.O.MR_T2/VSD.Brain.XX.O.MR_T2.694.mha  \n",
            "   creating: Gliomas Images/HG/0002/VSD.Brain_3more.XX.XX.OT/\n",
            "  inflating: Gliomas Images/HG/0002/VSD.Brain_3more.XX.XX.OT/VSD.Brain_3more.XX.XX.OT.6562.mha  \n",
            "   creating: Gliomas Images/HG/0003/\n",
            "   creating: Gliomas Images/HG/0003/VSD.Brain.XX.O.MR_Flair/\n",
            "  inflating: Gliomas Images/HG/0003/VSD.Brain.XX.O.MR_Flair/License_CC_BY_NC_SA_3.0.txt  \n",
            "  inflating: Gliomas Images/HG/0003/VSD.Brain.XX.O.MR_Flair/VSD.Brain.XX.O.MR_Flair.697.mha  \n",
            "   creating: Gliomas Images/HG/0003/VSD.Brain.XX.O.MR_T1/\n",
            "  inflating: Gliomas Images/HG/0003/VSD.Brain.XX.O.MR_T1/License_CC_BY_NC_SA_3.0.txt  \n",
            "  inflating: Gliomas Images/HG/0003/VSD.Brain.XX.O.MR_T1/VSD.Brain.XX.O.MR_T1.698.mha  \n",
            "   creating: Gliomas Images/HG/0003/VSD.Brain.XX.O.MR_T1c/\n",
            "  inflating: Gliomas Images/HG/0003/VSD.Brain.XX.O.MR_T1c/License_CC_BY_NC_SA_3.0.txt  \n",
            "  inflating: Gliomas Images/HG/0003/VSD.Brain.XX.O.MR_T1c/VSD.Brain.XX.O.MR_T1c.699.mha  \n",
            "   creating: Gliomas Images/HG/0003/VSD.Brain.XX.O.MR_T2/\n",
            "  inflating: Gliomas Images/HG/0003/VSD.Brain.XX.O.MR_T2/License_CC_BY_NC_SA_3.0.txt  \n",
            "  inflating: Gliomas Images/HG/0003/VSD.Brain.XX.O.MR_T2/VSD.Brain.XX.O.MR_T2.700.mha  \n",
            "   creating: Gliomas Images/HG/0003/VSD.Brain_3more.XX.XX.OT/\n",
            "  inflating: Gliomas Images/HG/0003/VSD.Brain_3more.XX.XX.OT/VSD.Brain_3more.XX.XX.OT.6564.mha  \n",
            "   creating: Gliomas Images/HG/0004/\n",
            "   creating: Gliomas Images/HG/0004/VSD.Brain.XX.O.MR_Flair/\n",
            "  inflating: Gliomas Images/HG/0004/VSD.Brain.XX.O.MR_Flair/License_CC_BY_NC_SA_3.0.txt  \n",
            "  inflating: Gliomas Images/HG/0004/VSD.Brain.XX.O.MR_Flair/VSD.Brain.XX.O.MR_Flair.703.mha  \n",
            "   creating: Gliomas Images/HG/0004/VSD.Brain.XX.O.MR_T1/\n",
            "  inflating: Gliomas Images/HG/0004/VSD.Brain.XX.O.MR_T1/License_CC_BY_NC_SA_3.0.txt  \n",
            "  inflating: Gliomas Images/HG/0004/VSD.Brain.XX.O.MR_T1/VSD.Brain.XX.O.MR_T1.704.mha  \n",
            "   creating: Gliomas Images/HG/0004/VSD.Brain.XX.O.MR_T1c/\n",
            "  inflating: Gliomas Images/HG/0004/VSD.Brain.XX.O.MR_T1c/License_CC_BY_NC_SA_3.0.txt  \n",
            "  inflating: Gliomas Images/HG/0004/VSD.Brain.XX.O.MR_T1c/VSD.Brain.XX.O.MR_T1c.705.mha  \n",
            "   creating: Gliomas Images/HG/0004/VSD.Brain.XX.O.MR_T2/\n",
            "  inflating: Gliomas Images/HG/0004/VSD.Brain.XX.O.MR_T2/License_CC_BY_NC_SA_3.0.txt  \n",
            "  inflating: Gliomas Images/HG/0004/VSD.Brain.XX.O.MR_T2/VSD.Brain.XX.O.MR_T2.706.mha  \n",
            "   creating: Gliomas Images/HG/0004/VSD.Brain_3more.XX.XX.OT/\n",
            "  inflating: Gliomas Images/HG/0004/VSD.Brain_3more.XX.XX.OT/VSD.Brain_3more.XX.XX.OT.6566.mha  \n",
            "   creating: Gliomas Images/HG/0005/\n",
            "   creating: Gliomas Images/HG/0005/VSD.Brain.XX.O.MR_Flair/\n",
            "  inflating: Gliomas Images/HG/0005/VSD.Brain.XX.O.MR_Flair/License_CC_BY_NC_SA_3.0.txt  \n",
            "  inflating: Gliomas Images/HG/0005/VSD.Brain.XX.O.MR_Flair/VSD.Brain.XX.O.MR_Flair.709.mha  \n",
            "   creating: Gliomas Images/HG/0005/VSD.Brain.XX.O.MR_T1/\n",
            "  inflating: Gliomas Images/HG/0005/VSD.Brain.XX.O.MR_T1/License_CC_BY_NC_SA_3.0.txt  \n",
            "  inflating: Gliomas Images/HG/0005/VSD.Brain.XX.O.MR_T1/VSD.Brain.XX.O.MR_T1.710.mha  \n",
            "   creating: Gliomas Images/HG/0005/VSD.Brain.XX.O.MR_T1c/\n",
            "  inflating: Gliomas Images/HG/0005/VSD.Brain.XX.O.MR_T1c/License_CC_BY_NC_SA_3.0.txt  \n",
            "  inflating: Gliomas Images/HG/0005/VSD.Brain.XX.O.MR_T1c/VSD.Brain.XX.O.MR_T1c.711.mha  \n",
            "   creating: Gliomas Images/HG/0005/VSD.Brain.XX.O.MR_T2/\n",
            "  inflating: Gliomas Images/HG/0005/VSD.Brain.XX.O.MR_T2/License_CC_BY_NC_SA_3.0.txt  \n",
            "  inflating: Gliomas Images/HG/0005/VSD.Brain.XX.O.MR_T2/VSD.Brain.XX.O.MR_T2.712.mha  \n",
            "   creating: Gliomas Images/HG/0005/VSD.Brain_3more.XX.XX.OT/\n",
            "  inflating: Gliomas Images/HG/0005/VSD.Brain_3more.XX.XX.OT/VSD.Brain_3more.XX.XX.OT.6568.mha  \n",
            "   creating: Gliomas Images/HG/0006/\n",
            "   creating: Gliomas Images/HG/0006/VSD.Brain.XX.O.MR_Flair/\n",
            "  inflating: Gliomas Images/HG/0006/VSD.Brain.XX.O.MR_Flair/License_CC_BY_NC_SA_3.0.txt  \n",
            "  inflating: Gliomas Images/HG/0006/VSD.Brain.XX.O.MR_Flair/VSD.Brain.XX.O.MR_Flair.715.mha  \n",
            "   creating: Gliomas Images/HG/0006/VSD.Brain.XX.O.MR_T1/\n",
            "  inflating: Gliomas Images/HG/0006/VSD.Brain.XX.O.MR_T1/License_CC_BY_NC_SA_3.0.txt  \n",
            "  inflating: Gliomas Images/HG/0006/VSD.Brain.XX.O.MR_T1/VSD.Brain.XX.O.MR_T1.716.mha  \n",
            "   creating: Gliomas Images/HG/0006/VSD.Brain.XX.O.MR_T1c/\n",
            "  inflating: Gliomas Images/HG/0006/VSD.Brain.XX.O.MR_T1c/License_CC_BY_NC_SA_3.0.txt  \n",
            "  inflating: Gliomas Images/HG/0006/VSD.Brain.XX.O.MR_T1c/VSD.Brain.XX.O.MR_T1c.717.mha  \n",
            "   creating: Gliomas Images/HG/0006/VSD.Brain.XX.O.MR_T2/\n",
            "  inflating: Gliomas Images/HG/0006/VSD.Brain.XX.O.MR_T2/License_CC_BY_NC_SA_3.0.txt  \n",
            "  inflating: Gliomas Images/HG/0006/VSD.Brain.XX.O.MR_T2/VSD.Brain.XX.O.MR_T2.718.mha  \n",
            "   creating: Gliomas Images/HG/0006/VSD.Brain_3more.XX.XX.OT/\n",
            "  inflating: Gliomas Images/HG/0006/VSD.Brain_3more.XX.XX.OT/VSD.Brain_3more.XX.XX.OT.6570.mha  \n",
            "   creating: Gliomas Images/HG/0007/\n",
            "   creating: Gliomas Images/HG/0007/VSD.Brain.XX.O.MR_Flair/\n",
            "  inflating: Gliomas Images/HG/0007/VSD.Brain.XX.O.MR_Flair/License_CC_BY_NC_SA_3.0.txt  \n",
            "  inflating: Gliomas Images/HG/0007/VSD.Brain.XX.O.MR_Flair/VSD.Brain.XX.O.MR_Flair.721.mha  \n",
            "   creating: Gliomas Images/HG/0007/VSD.Brain.XX.O.MR_T1/\n",
            "  inflating: Gliomas Images/HG/0007/VSD.Brain.XX.O.MR_T1/License_CC_BY_NC_SA_3.0.txt  \n",
            "  inflating: Gliomas Images/HG/0007/VSD.Brain.XX.O.MR_T1/VSD.Brain.XX.O.MR_T1.722.mha  \n",
            "   creating: Gliomas Images/HG/0007/VSD.Brain.XX.O.MR_T1c/\n",
            "  inflating: Gliomas Images/HG/0007/VSD.Brain.XX.O.MR_T1c/License_CC_BY_NC_SA_3.0.txt  \n",
            "  inflating: Gliomas Images/HG/0007/VSD.Brain.XX.O.MR_T1c/VSD.Brain.XX.O.MR_T1c.723.mha  \n",
            "   creating: Gliomas Images/HG/0007/VSD.Brain.XX.O.MR_T2/\n",
            "  inflating: Gliomas Images/HG/0007/VSD.Brain.XX.O.MR_T2/License_CC_BY_NC_SA_3.0.txt  \n",
            "  inflating: Gliomas Images/HG/0007/VSD.Brain.XX.O.MR_T2/VSD.Brain.XX.O.MR_T2.724.mha  \n",
            "   creating: Gliomas Images/HG/0007/VSD.Brain_3more.XX.XX.OT/\n",
            "  inflating: Gliomas Images/HG/0007/VSD.Brain_3more.XX.XX.OT/VSD.Brain_3more.XX.XX.OT.6572.mha  \n",
            "   creating: Gliomas Images/HG/0008/\n",
            "   creating: Gliomas Images/HG/0008/VSD.Brain.XX.O.MR_Flair/\n",
            "  inflating: Gliomas Images/HG/0008/VSD.Brain.XX.O.MR_Flair/License_CC_BY_NC_SA_3.0.txt  \n",
            "  inflating: Gliomas Images/HG/0008/VSD.Brain.XX.O.MR_Flair/VSD.Brain.XX.O.MR_Flair.727.mha  \n",
            "   creating: Gliomas Images/HG/0008/VSD.Brain.XX.O.MR_T1/\n",
            "  inflating: Gliomas Images/HG/0008/VSD.Brain.XX.O.MR_T1/License_CC_BY_NC_SA_3.0.txt  \n",
            "  inflating: Gliomas Images/HG/0008/VSD.Brain.XX.O.MR_T1/VSD.Brain.XX.O.MR_T1.728.mha  \n",
            "   creating: Gliomas Images/HG/0008/VSD.Brain.XX.O.MR_T1c/\n",
            "  inflating: Gliomas Images/HG/0008/VSD.Brain.XX.O.MR_T1c/License_CC_BY_NC_SA_3.0.txt  \n",
            "  inflating: Gliomas Images/HG/0008/VSD.Brain.XX.O.MR_T1c/VSD.Brain.XX.O.MR_T1c.729.mha  \n",
            "   creating: Gliomas Images/HG/0008/VSD.Brain.XX.O.MR_T2/\n",
            "  inflating: Gliomas Images/HG/0008/VSD.Brain.XX.O.MR_T2/License_CC_BY_NC_SA_3.0.txt  \n",
            "  inflating: Gliomas Images/HG/0008/VSD.Brain.XX.O.MR_T2/VSD.Brain.XX.O.MR_T2.730.mha  \n",
            "   creating: Gliomas Images/HG/0008/VSD.Brain_3more.XX.XX.OT/\n",
            "  inflating: Gliomas Images/HG/0008/VSD.Brain_3more.XX.XX.OT/VSD.Brain_3more.XX.XX.OT.6574.mha  \n",
            "   creating: Gliomas Images/HG/0009/\n",
            "   creating: Gliomas Images/HG/0009/VSD.Brain.XX.O.MR_Flair/\n",
            "  inflating: Gliomas Images/HG/0009/VSD.Brain.XX.O.MR_Flair/License_CC_BY_NC_SA_3.0.txt  \n",
            "  inflating: Gliomas Images/HG/0009/VSD.Brain.XX.O.MR_Flair/VSD.Brain.XX.O.MR_Flair.733.mha  \n",
            "   creating: Gliomas Images/HG/0009/VSD.Brain.XX.O.MR_T1/\n",
            "  inflating: Gliomas Images/HG/0009/VSD.Brain.XX.O.MR_T1/License_CC_BY_NC_SA_3.0.txt  \n",
            "  inflating: Gliomas Images/HG/0009/VSD.Brain.XX.O.MR_T1/VSD.Brain.XX.O.MR_T1.734.mha  \n",
            "   creating: Gliomas Images/HG/0009/VSD.Brain.XX.O.MR_T1c/\n",
            "  inflating: Gliomas Images/HG/0009/VSD.Brain.XX.O.MR_T1c/License_CC_BY_NC_SA_3.0.txt  \n",
            "  inflating: Gliomas Images/HG/0009/VSD.Brain.XX.O.MR_T1c/VSD.Brain.XX.O.MR_T1c.735.mha  \n",
            "   creating: Gliomas Images/HG/0009/VSD.Brain.XX.O.MR_T2/\n",
            "  inflating: Gliomas Images/HG/0009/VSD.Brain.XX.O.MR_T2/License_CC_BY_NC_SA_3.0.txt  \n",
            "  inflating: Gliomas Images/HG/0009/VSD.Brain.XX.O.MR_T2/VSD.Brain.XX.O.MR_T2.736.mha  \n",
            "   creating: Gliomas Images/HG/0009/VSD.Brain_3more.XX.XX.OT/\n",
            "  inflating: Gliomas Images/HG/0009/VSD.Brain_3more.XX.XX.OT/VSD.Brain_3more.XX.XX.OT.6576.mha  \n",
            "   creating: Gliomas Images/HG/0010/\n",
            "   creating: Gliomas Images/HG/0010/VSD.Brain.XX.O.MR_Flair/\n",
            "  inflating: Gliomas Images/HG/0010/VSD.Brain.XX.O.MR_Flair/License_CC_BY_NC_SA_3.0.txt  \n",
            "  inflating: Gliomas Images/HG/0010/VSD.Brain.XX.O.MR_Flair/VSD.Brain.XX.O.MR_Flair.739.mha  \n",
            "   creating: Gliomas Images/HG/0010/VSD.Brain.XX.O.MR_T1/\n",
            "  inflating: Gliomas Images/HG/0010/VSD.Brain.XX.O.MR_T1/License_CC_BY_NC_SA_3.0.txt  \n",
            "  inflating: Gliomas Images/HG/0010/VSD.Brain.XX.O.MR_T1/VSD.Brain.XX.O.MR_T1.740.mha  \n",
            "   creating: Gliomas Images/HG/0010/VSD.Brain.XX.O.MR_T1c/\n",
            "  inflating: Gliomas Images/HG/0010/VSD.Brain.XX.O.MR_T1c/License_CC_BY_NC_SA_3.0.txt  \n",
            "  inflating: Gliomas Images/HG/0010/VSD.Brain.XX.O.MR_T1c/VSD.Brain.XX.O.MR_T1c.741.mha  \n",
            "   creating: Gliomas Images/HG/0010/VSD.Brain.XX.O.MR_T2/\n",
            "  inflating: Gliomas Images/HG/0010/VSD.Brain.XX.O.MR_T2/License_CC_BY_NC_SA_3.0.txt  \n",
            "  inflating: Gliomas Images/HG/0010/VSD.Brain.XX.O.MR_T2/VSD.Brain.XX.O.MR_T2.742.mha  \n",
            "   creating: Gliomas Images/HG/0010/VSD.Brain_3more.XX.XX.OT/\n",
            "  inflating: Gliomas Images/HG/0010/VSD.Brain_3more.XX.XX.OT/VSD.Brain_3more.XX.XX.OT.6578.mha  \n",
            "   creating: Gliomas Images/HG/0011/\n",
            "   creating: Gliomas Images/HG/0011/VSD.Brain.XX.O.MR_Flair/\n",
            "  inflating: Gliomas Images/HG/0011/VSD.Brain.XX.O.MR_Flair/License_CC_BY_NC_SA_3.0.txt  \n",
            "  inflating: Gliomas Images/HG/0011/VSD.Brain.XX.O.MR_Flair/VSD.Brain.XX.O.MR_Flair.745.mha  \n",
            "   creating: Gliomas Images/HG/0011/VSD.Brain.XX.O.MR_T1/\n",
            "  inflating: Gliomas Images/HG/0011/VSD.Brain.XX.O.MR_T1/License_CC_BY_NC_SA_3.0.txt  \n",
            "  inflating: Gliomas Images/HG/0011/VSD.Brain.XX.O.MR_T1/VSD.Brain.XX.O.MR_T1.746.mha  \n",
            "   creating: Gliomas Images/HG/0011/VSD.Brain.XX.O.MR_T1c/\n",
            "  inflating: Gliomas Images/HG/0011/VSD.Brain.XX.O.MR_T1c/License_CC_BY_NC_SA_3.0.txt  \n",
            "  inflating: Gliomas Images/HG/0011/VSD.Brain.XX.O.MR_T1c/VSD.Brain.XX.O.MR_T1c.747.mha  \n",
            "   creating: Gliomas Images/HG/0011/VSD.Brain.XX.O.MR_T2/\n",
            "  inflating: Gliomas Images/HG/0011/VSD.Brain.XX.O.MR_T2/License_CC_BY_NC_SA_3.0.txt  \n",
            "  inflating: Gliomas Images/HG/0011/VSD.Brain.XX.O.MR_T2/VSD.Brain.XX.O.MR_T2.748.mha  \n",
            "   creating: Gliomas Images/HG/0011/VSD.Brain_3more.XX.XX.OT/\n",
            "  inflating: Gliomas Images/HG/0011/VSD.Brain_3more.XX.XX.OT/VSD.Brain_3more.XX.XX.OT.6580.mha  \n",
            "   creating: Gliomas Images/HG/0012/\n",
            "   creating: Gliomas Images/HG/0012/VSD.Brain.XX.O.MR_Flair/\n",
            "  inflating: Gliomas Images/HG/0012/VSD.Brain.XX.O.MR_Flair/License_CC_BY_NC_SA_3.0.txt  \n",
            "  inflating: Gliomas Images/HG/0012/VSD.Brain.XX.O.MR_Flair/VSD.Brain.XX.O.MR_Flair.751.mha  \n",
            "   creating: Gliomas Images/HG/0012/VSD.Brain.XX.O.MR_T1/\n",
            "  inflating: Gliomas Images/HG/0012/VSD.Brain.XX.O.MR_T1/License_CC_BY_NC_SA_3.0.txt  \n",
            "  inflating: Gliomas Images/HG/0012/VSD.Brain.XX.O.MR_T1/VSD.Brain.XX.O.MR_T1.752.mha  \n",
            "   creating: Gliomas Images/HG/0012/VSD.Brain.XX.O.MR_T1c/\n",
            "  inflating: Gliomas Images/HG/0012/VSD.Brain.XX.O.MR_T1c/License_CC_BY_NC_SA_3.0.txt  \n",
            "  inflating: Gliomas Images/HG/0012/VSD.Brain.XX.O.MR_T1c/VSD.Brain.XX.O.MR_T1c.753.mha  \n",
            "   creating: Gliomas Images/HG/0012/VSD.Brain.XX.O.MR_T2/\n",
            "  inflating: Gliomas Images/HG/0012/VSD.Brain.XX.O.MR_T2/License_CC_BY_NC_SA_3.0.txt  \n",
            "  inflating: Gliomas Images/HG/0012/VSD.Brain.XX.O.MR_T2/VSD.Brain.XX.O.MR_T2.754.mha  \n",
            "   creating: Gliomas Images/HG/0012/VSD.Brain_3more.XX.XX.OT/\n",
            "  inflating: Gliomas Images/HG/0012/VSD.Brain_3more.XX.XX.OT/VSD.Brain_3more.XX.XX.OT.6582.mha  \n",
            "   creating: Gliomas Images/HG/0013/\n",
            "   creating: Gliomas Images/HG/0013/VSD.Brain.XX.O.MR_Flair/\n",
            "  inflating: Gliomas Images/HG/0013/VSD.Brain.XX.O.MR_Flair/License_CC_BY_NC_SA_3.0.txt  \n",
            "  inflating: Gliomas Images/HG/0013/VSD.Brain.XX.O.MR_Flair/VSD.Brain.XX.O.MR_Flair.757.mha  \n",
            "   creating: Gliomas Images/HG/0013/VSD.Brain.XX.O.MR_T1/\n",
            "  inflating: Gliomas Images/HG/0013/VSD.Brain.XX.O.MR_T1/License_CC_BY_NC_SA_3.0.txt  \n",
            "  inflating: Gliomas Images/HG/0013/VSD.Brain.XX.O.MR_T1/VSD.Brain.XX.O.MR_T1.758.mha  \n",
            "   creating: Gliomas Images/HG/0013/VSD.Brain.XX.O.MR_T1c/\n",
            "  inflating: Gliomas Images/HG/0013/VSD.Brain.XX.O.MR_T1c/License_CC_BY_NC_SA_3.0.txt  \n",
            "  inflating: Gliomas Images/HG/0013/VSD.Brain.XX.O.MR_T1c/VSD.Brain.XX.O.MR_T1c.759.mha  \n",
            "   creating: Gliomas Images/HG/0013/VSD.Brain.XX.O.MR_T2/\n",
            "  inflating: Gliomas Images/HG/0013/VSD.Brain.XX.O.MR_T2/License_CC_BY_NC_SA_3.0.txt  \n",
            "  inflating: Gliomas Images/HG/0013/VSD.Brain.XX.O.MR_T2/VSD.Brain.XX.O.MR_T2.760.mha  \n",
            "   creating: Gliomas Images/HG/0013/VSD.Brain_3more.XX.XX.OT/\n",
            "  inflating: Gliomas Images/HG/0013/VSD.Brain_3more.XX.XX.OT/VSD.Brain_3more.XX.XX.OT.6584.mha  \n",
            "   creating: Gliomas Images/HG/0014/\n",
            "   creating: Gliomas Images/HG/0014/VSD.Brain.XX.O.MR_Flair/\n",
            "  inflating: Gliomas Images/HG/0014/VSD.Brain.XX.O.MR_Flair/License_CC_BY_NC_SA_3.0.txt  \n",
            "  inflating: Gliomas Images/HG/0014/VSD.Brain.XX.O.MR_Flair/VSD.Brain.XX.O.MR_Flair.763.mha  \n",
            "   creating: Gliomas Images/HG/0014/VSD.Brain.XX.O.MR_T1/\n",
            "  inflating: Gliomas Images/HG/0014/VSD.Brain.XX.O.MR_T1/License_CC_BY_NC_SA_3.0.txt  \n",
            "  inflating: Gliomas Images/HG/0014/VSD.Brain.XX.O.MR_T1/VSD.Brain.XX.O.MR_T1.764.mha  \n",
            "   creating: Gliomas Images/HG/0014/VSD.Brain.XX.O.MR_T1c/\n",
            "  inflating: Gliomas Images/HG/0014/VSD.Brain.XX.O.MR_T1c/License_CC_BY_NC_SA_3.0.txt  \n",
            "  inflating: Gliomas Images/HG/0014/VSD.Brain.XX.O.MR_T1c/VSD.Brain.XX.O.MR_T1c.765.mha  \n",
            "   creating: Gliomas Images/HG/0014/VSD.Brain.XX.O.MR_T2/\n",
            "  inflating: Gliomas Images/HG/0014/VSD.Brain.XX.O.MR_T2/License_CC_BY_NC_SA_3.0.txt  \n",
            "  inflating: Gliomas Images/HG/0014/VSD.Brain.XX.O.MR_T2/VSD.Brain.XX.O.MR_T2.766.mha  \n",
            "   creating: Gliomas Images/HG/0014/VSD.Brain_3more.XX.XX.OT/\n",
            "  inflating: Gliomas Images/HG/0014/VSD.Brain_3more.XX.XX.OT/VSD.Brain_3more.XX.XX.OT.6586.mha  \n",
            "   creating: Gliomas Images/HG/0015/\n",
            "   creating: Gliomas Images/HG/0015/VSD.Brain.XX.O.MR_Flair/\n",
            "  inflating: Gliomas Images/HG/0015/VSD.Brain.XX.O.MR_Flair/License_CC_BY_NC_SA_3.0.txt  \n",
            "  inflating: Gliomas Images/HG/0015/VSD.Brain.XX.O.MR_Flair/VSD.Brain.XX.O.MR_Flair.769.mha  \n",
            "   creating: Gliomas Images/HG/0015/VSD.Brain.XX.O.MR_T1/\n",
            "  inflating: Gliomas Images/HG/0015/VSD.Brain.XX.O.MR_T1/License_CC_BY_NC_SA_3.0.txt  \n",
            "  inflating: Gliomas Images/HG/0015/VSD.Brain.XX.O.MR_T1/VSD.Brain.XX.O.MR_T1.770.mha  \n",
            "   creating: Gliomas Images/HG/0015/VSD.Brain.XX.O.MR_T1c/\n",
            "  inflating: Gliomas Images/HG/0015/VSD.Brain.XX.O.MR_T1c/License_CC_BY_NC_SA_3.0.txt  \n",
            "  inflating: Gliomas Images/HG/0015/VSD.Brain.XX.O.MR_T1c/VSD.Brain.XX.O.MR_T1c.771.mha  \n",
            "   creating: Gliomas Images/HG/0015/VSD.Brain.XX.O.MR_T2/\n",
            "  inflating: Gliomas Images/HG/0015/VSD.Brain.XX.O.MR_T2/License_CC_BY_NC_SA_3.0.txt  \n",
            "  inflating: Gliomas Images/HG/0015/VSD.Brain.XX.O.MR_T2/VSD.Brain.XX.O.MR_T2.772.mha  \n",
            "   creating: Gliomas Images/HG/0015/VSD.Brain_3more.XX.XX.OT/\n",
            "  inflating: Gliomas Images/HG/0015/VSD.Brain_3more.XX.XX.OT/VSD.Brain_3more.XX.XX.OT.6588.mha  \n",
            "   creating: Gliomas Images/HG/0022/\n",
            "   creating: Gliomas Images/HG/0022/VSD.Brain.XX.O.MR_Flair/\n",
            "  inflating: Gliomas Images/HG/0022/VSD.Brain.XX.O.MR_Flair/License_CC_BY_NC_SA_3.0.txt  \n",
            "  inflating: Gliomas Images/HG/0022/VSD.Brain.XX.O.MR_Flair/VSD.Brain.XX.O.MR_Flair.775.mha  \n",
            "   creating: Gliomas Images/HG/0022/VSD.Brain.XX.O.MR_T1/\n",
            "  inflating: Gliomas Images/HG/0022/VSD.Brain.XX.O.MR_T1/License_CC_BY_NC_SA_3.0.txt  \n",
            "  inflating: Gliomas Images/HG/0022/VSD.Brain.XX.O.MR_T1/VSD.Brain.XX.O.MR_T1.776.mha  \n",
            "   creating: Gliomas Images/HG/0022/VSD.Brain.XX.O.MR_T1c/\n",
            "  inflating: Gliomas Images/HG/0022/VSD.Brain.XX.O.MR_T1c/License_CC_BY_NC_SA_3.0.txt  \n",
            "  inflating: Gliomas Images/HG/0022/VSD.Brain.XX.O.MR_T1c/VSD.Brain.XX.O.MR_T1c.777.mha  \n",
            "   creating: Gliomas Images/HG/0022/VSD.Brain.XX.O.MR_T2/\n",
            "  inflating: Gliomas Images/HG/0022/VSD.Brain.XX.O.MR_T2/License_CC_BY_NC_SA_3.0.txt  \n",
            "   creating: Gliomas Images/HG/0022/VSD.Brain_3more.XX.XX.OT/\n",
            "  inflating: Gliomas Images/HG/0022/VSD.Brain_3more.XX.XX.OT/VSD.Brain_3more.XX.XX.OT.6590.mha  \n",
            "   creating: Gliomas Images/HG/0024/\n",
            "   creating: Gliomas Images/HG/0024/VSD.Brain.XX.O.MR_Flair/\n",
            "  inflating: Gliomas Images/HG/0024/VSD.Brain.XX.O.MR_Flair/License_CC_BY_NC_SA_3.0.txt  \n",
            "  inflating: Gliomas Images/HG/0024/VSD.Brain.XX.O.MR_Flair/VSD.Brain.XX.O.MR_Flair.781.mha  \n",
            "   creating: Gliomas Images/HG/0024/VSD.Brain.XX.O.MR_T1/\n",
            "  inflating: Gliomas Images/HG/0024/VSD.Brain.XX.O.MR_T1/License_CC_BY_NC_SA_3.0.txt  \n",
            "  inflating: Gliomas Images/HG/0024/VSD.Brain.XX.O.MR_T1/VSD.Brain.XX.O.MR_T1.782.mha  \n",
            "   creating: Gliomas Images/HG/0024/VSD.Brain.XX.O.MR_T1c/\n",
            "  inflating: Gliomas Images/HG/0024/VSD.Brain.XX.O.MR_T1c/License_CC_BY_NC_SA_3.0.txt  \n",
            "  inflating: Gliomas Images/HG/0024/VSD.Brain.XX.O.MR_T1c/VSD.Brain.XX.O.MR_T1c.783.mha  \n",
            "   creating: Gliomas Images/HG/0024/VSD.Brain.XX.O.MR_T2/\n",
            "  inflating: Gliomas Images/HG/0024/VSD.Brain.XX.O.MR_T2/License_CC_BY_NC_SA_3.0.txt  \n",
            "  inflating: Gliomas Images/HG/0024/VSD.Brain.XX.O.MR_T2/VSD.Brain.XX.O.MR_T2.784.mha  \n",
            "   creating: Gliomas Images/HG/0024/VSD.Brain_3more.XX.XX.OT/\n",
            "  inflating: Gliomas Images/HG/0024/VSD.Brain_3more.XX.XX.OT/VSD.Brain_3more.XX.XX.OT.6592.mha  \n",
            "   creating: Gliomas Images/HG/0025/\n",
            "   creating: Gliomas Images/HG/0025/VSD.Brain.XX.O.MR_Flair/\n",
            "  inflating: Gliomas Images/HG/0025/VSD.Brain.XX.O.MR_Flair/License_CC_BY_NC_SA_3.0.txt  \n",
            "  inflating: Gliomas Images/HG/0025/VSD.Brain.XX.O.MR_Flair/VSD.Brain.XX.O.MR_Flair.787.mha  \n",
            "   creating: Gliomas Images/HG/0025/VSD.Brain.XX.O.MR_T1/\n",
            "  inflating: Gliomas Images/HG/0025/VSD.Brain.XX.O.MR_T1/License_CC_BY_NC_SA_3.0.txt  \n",
            "  inflating: Gliomas Images/HG/0025/VSD.Brain.XX.O.MR_T1/VSD.Brain.XX.O.MR_T1.788.mha  \n",
            "   creating: Gliomas Images/HG/0025/VSD.Brain.XX.O.MR_T1c/\n",
            "  inflating: Gliomas Images/HG/0025/VSD.Brain.XX.O.MR_T1c/License_CC_BY_NC_SA_3.0.txt  \n",
            "  inflating: Gliomas Images/HG/0025/VSD.Brain.XX.O.MR_T1c/VSD.Brain.XX.O.MR_T1c.789.mha  \n",
            "   creating: Gliomas Images/HG/0025/VSD.Brain.XX.O.MR_T2/\n",
            "  inflating: Gliomas Images/HG/0025/VSD.Brain.XX.O.MR_T2/License_CC_BY_NC_SA_3.0.txt  \n",
            "  inflating: Gliomas Images/HG/0025/VSD.Brain.XX.O.MR_T2/VSD.Brain.XX.O.MR_T2.790.mha  \n",
            "   creating: Gliomas Images/HG/0025/VSD.Brain_3more.XX.XX.OT/\n",
            "  inflating: Gliomas Images/HG/0025/VSD.Brain_3more.XX.XX.OT/VSD.Brain_3more.XX.XX.OT.6594.mha  \n",
            "   creating: Gliomas Images/HG/0026/\n",
            "   creating: Gliomas Images/HG/0026/VSD.Brain.XX.O.MR_Flair/\n",
            "  inflating: Gliomas Images/HG/0026/VSD.Brain.XX.O.MR_Flair/License_CC_BY_NC_SA_3.0.txt  \n",
            "  inflating: Gliomas Images/HG/0026/VSD.Brain.XX.O.MR_Flair/VSD.Brain.XX.O.MR_Flair.793.mha  \n",
            "   creating: Gliomas Images/HG/0026/VSD.Brain.XX.O.MR_T1/\n",
            "  inflating: Gliomas Images/HG/0026/VSD.Brain.XX.O.MR_T1/License_CC_BY_NC_SA_3.0.txt  \n",
            "  inflating: Gliomas Images/HG/0026/VSD.Brain.XX.O.MR_T1/VSD.Brain.XX.O.MR_T1.794.mha  \n",
            "   creating: Gliomas Images/HG/0026/VSD.Brain.XX.O.MR_T1c/\n",
            "  inflating: Gliomas Images/HG/0026/VSD.Brain.XX.O.MR_T1c/License_CC_BY_NC_SA_3.0.txt  \n",
            "  inflating: Gliomas Images/HG/0026/VSD.Brain.XX.O.MR_T1c/VSD.Brain.XX.O.MR_T1c.795.mha  \n",
            "   creating: Gliomas Images/HG/0026/VSD.Brain.XX.O.MR_T2/\n",
            "  inflating: Gliomas Images/HG/0026/VSD.Brain.XX.O.MR_T2/License_CC_BY_NC_SA_3.0.txt  \n",
            "  inflating: Gliomas Images/HG/0026/VSD.Brain.XX.O.MR_T2/VSD.Brain.XX.O.MR_T2.796.mha  \n",
            "   creating: Gliomas Images/HG/0026/VSD.Brain_3more.XX.XX.OT/\n",
            "  inflating: Gliomas Images/HG/0026/VSD.Brain_3more.XX.XX.OT/VSD.Brain_3more.XX.XX.OT.6596.mha  \n",
            "   creating: Gliomas Images/HG/0027/\n",
            "   creating: Gliomas Images/HG/0027/VSD.Brain.XX.O.MR_Flair/\n",
            "  inflating: Gliomas Images/HG/0027/VSD.Brain.XX.O.MR_Flair/License_CC_BY_NC_SA_3.0.txt  \n",
            "  inflating: Gliomas Images/HG/0027/VSD.Brain.XX.O.MR_Flair/VSD.Brain.XX.O.MR_Flair.799.mha  \n",
            "   creating: Gliomas Images/HG/0027/VSD.Brain.XX.O.MR_T1/\n",
            "  inflating: Gliomas Images/HG/0027/VSD.Brain.XX.O.MR_T1/License_CC_BY_NC_SA_3.0.txt  \n",
            "  inflating: Gliomas Images/HG/0027/VSD.Brain.XX.O.MR_T1/VSD.Brain.XX.O.MR_T1.800.mha  \n",
            "   creating: Gliomas Images/HG/0027/VSD.Brain.XX.O.MR_T1c/\n",
            "  inflating: Gliomas Images/HG/0027/VSD.Brain.XX.O.MR_T1c/License_CC_BY_NC_SA_3.0.txt  \n",
            "  inflating: Gliomas Images/HG/0027/VSD.Brain.XX.O.MR_T1c/VSD.Brain.XX.O.MR_T1c.801.mha  \n",
            "   creating: Gliomas Images/HG/0027/VSD.Brain.XX.O.MR_T2/\n",
            "  inflating: Gliomas Images/HG/0027/VSD.Brain.XX.O.MR_T2/License_CC_BY_NC_SA_3.0.txt  \n",
            "  inflating: Gliomas Images/HG/0027/VSD.Brain.XX.O.MR_T2/VSD.Brain.XX.O.MR_T2.802.mha  \n",
            "   creating: Gliomas Images/HG/0027/VSD.Brain_3more.XX.XX.OT/\n",
            "  inflating: Gliomas Images/HG/0027/VSD.Brain_3more.XX.XX.OT/VSD.Brain_3more.XX.XX.OT.6598.mha  \n",
            "   creating: Gliomas Images/LG/\n",
            "   creating: Gliomas Images/LG/0001/\n",
            "   creating: Gliomas Images/LG/0001/VSD.Brain.XX.O.MR_Flair/\n",
            "  inflating: Gliomas Images/LG/0001/VSD.Brain.XX.O.MR_Flair/License_CC_BY_NC_SA_3.0.txt  \n",
            "  inflating: Gliomas Images/LG/0001/VSD.Brain.XX.O.MR_Flair/VSD.Brain.XX.O.MR_Flair.805.mha  \n",
            "   creating: Gliomas Images/LG/0001/VSD.Brain.XX.O.MR_T1/\n",
            "  inflating: Gliomas Images/LG/0001/VSD.Brain.XX.O.MR_T1/License_CC_BY_NC_SA_3.0.txt  \n",
            "  inflating: Gliomas Images/LG/0001/VSD.Brain.XX.O.MR_T1/VSD.Brain.XX.O.MR_T1.806.mha  \n",
            "   creating: Gliomas Images/LG/0001/VSD.Brain.XX.O.MR_T1c/\n",
            "  inflating: Gliomas Images/LG/0001/VSD.Brain.XX.O.MR_T1c/License_CC_BY_NC_SA_3.0.txt  \n",
            "  inflating: Gliomas Images/LG/0001/VSD.Brain.XX.O.MR_T1c/VSD.Brain.XX.O.MR_T1c.807.mha  \n",
            "   creating: Gliomas Images/LG/0001/VSD.Brain.XX.O.MR_T2/\n",
            "  inflating: Gliomas Images/LG/0001/VSD.Brain.XX.O.MR_T2/License_CC_BY_NC_SA_3.0.txt  \n",
            "  inflating: Gliomas Images/LG/0001/VSD.Brain.XX.O.MR_T2/VSD.Brain.XX.O.MR_T2.808.mha  \n",
            "   creating: Gliomas Images/LG/0001/VSD.Brain_3more.XX.XX.OT/\n",
            "  inflating: Gliomas Images/LG/0001/VSD.Brain_3more.XX.XX.OT/VSD.Brain_3more.XX.XX.OT.6600.mha  \n",
            "   creating: Gliomas Images/LG/0002/\n",
            "   creating: Gliomas Images/LG/0002/VSD.Brain.XX.O.MR_Flair/\n",
            "  inflating: Gliomas Images/LG/0002/VSD.Brain.XX.O.MR_Flair/License_CC_BY_NC_SA_3.0.txt  \n",
            "  inflating: Gliomas Images/LG/0002/VSD.Brain.XX.O.MR_Flair/VSD.Brain.XX.O.MR_Flair.811.mha  \n",
            "   creating: Gliomas Images/LG/0002/VSD.Brain.XX.O.MR_T1/\n",
            "  inflating: Gliomas Images/LG/0002/VSD.Brain.XX.O.MR_T1/License_CC_BY_NC_SA_3.0.txt  \n",
            "  inflating: Gliomas Images/LG/0002/VSD.Brain.XX.O.MR_T1/VSD.Brain.XX.O.MR_T1.812.mha  \n",
            "   creating: Gliomas Images/LG/0002/VSD.Brain.XX.O.MR_T1c/\n",
            "  inflating: Gliomas Images/LG/0002/VSD.Brain.XX.O.MR_T1c/License_CC_BY_NC_SA_3.0.txt  \n",
            "  inflating: Gliomas Images/LG/0002/VSD.Brain.XX.O.MR_T1c/VSD.Brain.XX.O.MR_T1c.813.mha  \n",
            "   creating: Gliomas Images/LG/0002/VSD.Brain.XX.O.MR_T2/\n",
            "  inflating: Gliomas Images/LG/0002/VSD.Brain.XX.O.MR_T2/License_CC_BY_NC_SA_3.0.txt  \n",
            "  inflating: Gliomas Images/LG/0002/VSD.Brain.XX.O.MR_T2/VSD.Brain.XX.O.MR_T2.814.mha  \n",
            "   creating: Gliomas Images/LG/0002/VSD.Brain_3more.XX.XX.OT/\n",
            "  inflating: Gliomas Images/LG/0002/VSD.Brain_3more.XX.XX.OT/VSD.Brain_3more.XX.XX.OT.6602.mha  \n",
            "   creating: Gliomas Images/LG/0004/\n",
            "   creating: Gliomas Images/LG/0004/VSD.Brain.XX.O.MR_Flair/\n",
            "  inflating: Gliomas Images/LG/0004/VSD.Brain.XX.O.MR_Flair/License_CC_BY_NC_SA_3.0.txt  \n",
            "  inflating: Gliomas Images/LG/0004/VSD.Brain.XX.O.MR_Flair/VSD.Brain.XX.O.MR_Flair.817.mha  \n",
            "   creating: Gliomas Images/LG/0004/VSD.Brain.XX.O.MR_T1/\n",
            "  inflating: Gliomas Images/LG/0004/VSD.Brain.XX.O.MR_T1/License_CC_BY_NC_SA_3.0.txt  \n",
            "  inflating: Gliomas Images/LG/0004/VSD.Brain.XX.O.MR_T1/VSD.Brain.XX.O.MR_T1.818.mha  \n",
            "   creating: Gliomas Images/LG/0004/VSD.Brain.XX.O.MR_T1c/\n",
            "  inflating: Gliomas Images/LG/0004/VSD.Brain.XX.O.MR_T1c/License_CC_BY_NC_SA_3.0.txt  \n",
            "  inflating: Gliomas Images/LG/0004/VSD.Brain.XX.O.MR_T1c/VSD.Brain.XX.O.MR_T1c.819.mha  \n",
            "   creating: Gliomas Images/LG/0004/VSD.Brain.XX.O.MR_T2/\n",
            "  inflating: Gliomas Images/LG/0004/VSD.Brain.XX.O.MR_T2/License_CC_BY_NC_SA_3.0.txt  \n",
            "  inflating: Gliomas Images/LG/0004/VSD.Brain.XX.O.MR_T2/VSD.Brain.XX.O.MR_T2.820.mha  \n",
            "   creating: Gliomas Images/LG/0004/VSD.Brain_2more.XX.XX.OT/\n",
            "  inflating: Gliomas Images/LG/0004/VSD.Brain_2more.XX.XX.OT/VSD.Brain_2more.XX.XX.OT.6604.mha  \n",
            "   creating: Gliomas Images/LG/0006/\n",
            "   creating: Gliomas Images/LG/0006/VSD.Brain.XX.O.MR_Flair/\n",
            "  inflating: Gliomas Images/LG/0006/VSD.Brain.XX.O.MR_Flair/License_CC_BY_NC_SA_3.0.txt  \n",
            "  inflating: Gliomas Images/LG/0006/VSD.Brain.XX.O.MR_Flair/VSD.Brain.XX.O.MR_Flair.823.mha  \n",
            "   creating: Gliomas Images/LG/0006/VSD.Brain.XX.O.MR_T1/\n",
            "  inflating: Gliomas Images/LG/0006/VSD.Brain.XX.O.MR_T1/License_CC_BY_NC_SA_3.0.txt  \n",
            "  inflating: Gliomas Images/LG/0006/VSD.Brain.XX.O.MR_T1/VSD.Brain.XX.O.MR_T1.824.mha  \n",
            "   creating: Gliomas Images/LG/0006/VSD.Brain.XX.O.MR_T1c/\n",
            "  inflating: Gliomas Images/LG/0006/VSD.Brain.XX.O.MR_T1c/License_CC_BY_NC_SA_3.0.txt  \n",
            "  inflating: Gliomas Images/LG/0006/VSD.Brain.XX.O.MR_T1c/VSD.Brain.XX.O.MR_T1c.825.mha  \n",
            "   creating: Gliomas Images/LG/0006/VSD.Brain.XX.O.MR_T2/\n",
            "  inflating: Gliomas Images/LG/0006/VSD.Brain.XX.O.MR_T2/License_CC_BY_NC_SA_3.0.txt  \n",
            "  inflating: Gliomas Images/LG/0006/VSD.Brain.XX.O.MR_T2/VSD.Brain.XX.O.MR_T2.826.mha  \n",
            "   creating: Gliomas Images/LG/0006/VSD.Brain_1more.XX.XX.OT/\n",
            "  inflating: Gliomas Images/LG/0006/VSD.Brain_1more.XX.XX.OT/VSD.Brain_1more.XX.XX.OT.6606.mha  \n",
            "   creating: Gliomas Images/LG/0008/\n",
            "   creating: Gliomas Images/LG/0008/VSD.Brain.XX.O.MR_Flair/\n",
            "  inflating: Gliomas Images/LG/0008/VSD.Brain.XX.O.MR_Flair/License_CC_BY_NC_SA_3.0.txt  \n",
            "  inflating: Gliomas Images/LG/0008/VSD.Brain.XX.O.MR_Flair/VSD.Brain.XX.O.MR_Flair.829.mha  \n",
            "   creating: Gliomas Images/LG/0008/VSD.Brain.XX.O.MR_T1/\n",
            "  inflating: Gliomas Images/LG/0008/VSD.Brain.XX.O.MR_T1/License_CC_BY_NC_SA_3.0.txt  \n",
            "  inflating: Gliomas Images/LG/0008/VSD.Brain.XX.O.MR_T1/VSD.Brain.XX.O.MR_T1.830.mha  \n",
            "   creating: Gliomas Images/LG/0008/VSD.Brain.XX.O.MR_T1c/\n",
            "  inflating: Gliomas Images/LG/0008/VSD.Brain.XX.O.MR_T1c/License_CC_BY_NC_SA_3.0.txt  \n",
            "  inflating: Gliomas Images/LG/0008/VSD.Brain.XX.O.MR_T1c/VSD.Brain.XX.O.MR_T1c.831.mha  \n",
            "   creating: Gliomas Images/LG/0008/VSD.Brain.XX.O.MR_T2/\n",
            "  inflating: Gliomas Images/LG/0008/VSD.Brain.XX.O.MR_T2/License_CC_BY_NC_SA_3.0.txt  \n",
            "  inflating: Gliomas Images/LG/0008/VSD.Brain.XX.O.MR_T2/VSD.Brain.XX.O.MR_T2.832.mha  \n",
            "   creating: Gliomas Images/LG/0008/VSD.Brain_1more.XX.XX.OT/\n",
            "  inflating: Gliomas Images/LG/0008/VSD.Brain_1more.XX.XX.OT/VSD.Brain_1more.XX.XX.OT.6608.mha  \n",
            "   creating: Gliomas Images/LG/0011/\n",
            "   creating: Gliomas Images/LG/0011/VSD.Brain.XX.O.MR_Flair/\n",
            "  inflating: Gliomas Images/LG/0011/VSD.Brain.XX.O.MR_Flair/License_CC_BY_NC_SA_3.0.txt  \n",
            "  inflating: Gliomas Images/LG/0011/VSD.Brain.XX.O.MR_Flair/VSD.Brain.XX.O.MR_Flair.835.mha  \n",
            "   creating: Gliomas Images/LG/0011/VSD.Brain.XX.O.MR_T1/\n",
            "  inflating: Gliomas Images/LG/0011/VSD.Brain.XX.O.MR_T1/License_CC_BY_NC_SA_3.0.txt  \n",
            "  inflating: Gliomas Images/LG/0011/VSD.Brain.XX.O.MR_T1/VSD.Brain.XX.O.MR_T1.836.mha  \n",
            "   creating: Gliomas Images/LG/0011/VSD.Brain.XX.O.MR_T1c/\n",
            "  inflating: Gliomas Images/LG/0011/VSD.Brain.XX.O.MR_T1c/License_CC_BY_NC_SA_3.0.txt  \n",
            "  inflating: Gliomas Images/LG/0011/VSD.Brain.XX.O.MR_T1c/VSD.Brain.XX.O.MR_T1c.837.mha  \n",
            "   creating: Gliomas Images/LG/0011/VSD.Brain.XX.O.MR_T2/\n",
            "  inflating: Gliomas Images/LG/0011/VSD.Brain.XX.O.MR_T2/License_CC_BY_NC_SA_3.0.txt  \n",
            "  inflating: Gliomas Images/LG/0011/VSD.Brain.XX.O.MR_T2/VSD.Brain.XX.O.MR_T2.838.mha  \n",
            "   creating: Gliomas Images/LG/0011/VSD.Brain_1more.XX.XX.OT/\n",
            "  inflating: Gliomas Images/LG/0011/VSD.Brain_1more.XX.XX.OT/VSD.Brain_1more.XX.XX.OT.6610.mha  \n",
            "   creating: Gliomas Images/LG/0012/\n",
            "   creating: Gliomas Images/LG/0012/VSD.Brain.XX.O.MR_Flair/\n",
            "  inflating: Gliomas Images/LG/0012/VSD.Brain.XX.O.MR_Flair/License_CC_BY_NC_SA_3.0.txt  \n",
            "  inflating: Gliomas Images/LG/0012/VSD.Brain.XX.O.MR_Flair/VSD.Brain.XX.O.MR_Flair.841.mha  \n",
            "   creating: Gliomas Images/LG/0012/VSD.Brain.XX.O.MR_T1/\n",
            "  inflating: Gliomas Images/LG/0012/VSD.Brain.XX.O.MR_T1/License_CC_BY_NC_SA_3.0.txt  \n",
            "  inflating: Gliomas Images/LG/0012/VSD.Brain.XX.O.MR_T1/VSD.Brain.XX.O.MR_T1.842.mha  \n",
            "   creating: Gliomas Images/LG/0012/VSD.Brain.XX.O.MR_T1c/\n",
            "  inflating: Gliomas Images/LG/0012/VSD.Brain.XX.O.MR_T1c/License_CC_BY_NC_SA_3.0.txt  \n",
            "  inflating: Gliomas Images/LG/0012/VSD.Brain.XX.O.MR_T1c/VSD.Brain.XX.O.MR_T1c.843.mha  \n",
            "   creating: Gliomas Images/LG/0012/VSD.Brain.XX.O.MR_T2/\n",
            "  inflating: Gliomas Images/LG/0012/VSD.Brain.XX.O.MR_T2/License_CC_BY_NC_SA_3.0.txt  \n",
            "  inflating: Gliomas Images/LG/0012/VSD.Brain.XX.O.MR_T2/VSD.Brain.XX.O.MR_T2.844.mha  \n",
            "   creating: Gliomas Images/LG/0012/VSD.Brain_1more.XX.XX.OT/\n",
            "  inflating: Gliomas Images/LG/0012/VSD.Brain_1more.XX.XX.OT/VSD.Brain_1more.XX.XX.OT.6612.mha  \n",
            "   creating: Gliomas Images/LG/0013/\n",
            "   creating: Gliomas Images/LG/0013/VSD.Brain.XX.O.MR_Flair/\n",
            "  inflating: Gliomas Images/LG/0013/VSD.Brain.XX.O.MR_Flair/License_CC_BY_NC_SA_3.0.txt  \n",
            "  inflating: Gliomas Images/LG/0013/VSD.Brain.XX.O.MR_Flair/VSD.Brain.XX.O.MR_Flair.847.mha  \n",
            "   creating: Gliomas Images/LG/0013/VSD.Brain.XX.O.MR_T1/\n",
            "  inflating: Gliomas Images/LG/0013/VSD.Brain.XX.O.MR_T1/License_CC_BY_NC_SA_3.0.txt  \n",
            "  inflating: Gliomas Images/LG/0013/VSD.Brain.XX.O.MR_T1/VSD.Brain.XX.O.MR_T1.848.mha  \n",
            "   creating: Gliomas Images/LG/0013/VSD.Brain.XX.O.MR_T1c/\n",
            "  inflating: Gliomas Images/LG/0013/VSD.Brain.XX.O.MR_T1c/License_CC_BY_NC_SA_3.0.txt  \n",
            "  inflating: Gliomas Images/LG/0013/VSD.Brain.XX.O.MR_T1c/VSD.Brain.XX.O.MR_T1c.849.mha  \n",
            "   creating: Gliomas Images/LG/0013/VSD.Brain.XX.O.MR_T2/\n",
            "  inflating: Gliomas Images/LG/0013/VSD.Brain.XX.O.MR_T2/License_CC_BY_NC_SA_3.0.txt  \n",
            "  inflating: Gliomas Images/LG/0013/VSD.Brain.XX.O.MR_T2/VSD.Brain.XX.O.MR_T2.850.mha  \n",
            "   creating: Gliomas Images/LG/0013/VSD.Brain_2more.XX.XX.OT/\n",
            "  inflating: Gliomas Images/LG/0013/VSD.Brain_2more.XX.XX.OT/VSD.Brain_2more.XX.XX.OT.6614.mha  \n",
            "   creating: Gliomas Images/LG/0014/\n",
            "   creating: Gliomas Images/LG/0014/VSD.Brain.XX.O.MR_Flair/\n",
            "  inflating: Gliomas Images/LG/0014/VSD.Brain.XX.O.MR_Flair/License_CC_BY_NC_SA_3.0.txt  \n",
            "  inflating: Gliomas Images/LG/0014/VSD.Brain.XX.O.MR_Flair/VSD.Brain.XX.O.MR_Flair.853.mha  \n",
            "   creating: Gliomas Images/LG/0014/VSD.Brain.XX.O.MR_T1/\n",
            "  inflating: Gliomas Images/LG/0014/VSD.Brain.XX.O.MR_T1/License_CC_BY_NC_SA_3.0.txt  \n",
            "  inflating: Gliomas Images/LG/0014/VSD.Brain.XX.O.MR_T1/VSD.Brain.XX.O.MR_T1.854.mha  \n",
            "   creating: Gliomas Images/LG/0014/VSD.Brain.XX.O.MR_T1c/\n",
            "  inflating: Gliomas Images/LG/0014/VSD.Brain.XX.O.MR_T1c/License_CC_BY_NC_SA_3.0.txt  \n",
            "  inflating: Gliomas Images/LG/0014/VSD.Brain.XX.O.MR_T1c/VSD.Brain.XX.O.MR_T1c.855.mha  \n",
            "   creating: Gliomas Images/LG/0014/VSD.Brain.XX.O.MR_T2/\n",
            "  inflating: Gliomas Images/LG/0014/VSD.Brain.XX.O.MR_T2/License_CC_BY_NC_SA_3.0.txt  \n",
            "  inflating: Gliomas Images/LG/0014/VSD.Brain.XX.O.MR_T2/VSD.Brain.XX.O.MR_T2.856.mha  \n",
            "   creating: Gliomas Images/LG/0014/VSD.Brain_2more.XX.XX.OT/\n",
            "  inflating: Gliomas Images/LG/0014/VSD.Brain_2more.XX.XX.OT/VSD.Brain_2more.XX.XX.OT.6616.mha  \n",
            "   creating: Gliomas Images/LG/0015/\n",
            "   creating: Gliomas Images/LG/0015/VSD.Brain.XX.O.MR_Flair/\n",
            "  inflating: Gliomas Images/LG/0015/VSD.Brain.XX.O.MR_Flair/License_CC_BY_NC_SA_3.0.txt  \n",
            "  inflating: Gliomas Images/LG/0015/VSD.Brain.XX.O.MR_Flair/VSD.Brain.XX.O.MR_Flair.859.mha  \n",
            "   creating: Gliomas Images/LG/0015/VSD.Brain.XX.O.MR_T1/\n",
            "  inflating: Gliomas Images/LG/0015/VSD.Brain.XX.O.MR_T1/License_CC_BY_NC_SA_3.0.txt  \n",
            "  inflating: Gliomas Images/LG/0015/VSD.Brain.XX.O.MR_T1/VSD.Brain.XX.O.MR_T1.860.mha  \n",
            "   creating: Gliomas Images/LG/0015/VSD.Brain.XX.O.MR_T1c/\n",
            "  inflating: Gliomas Images/LG/0015/VSD.Brain.XX.O.MR_T1c/License_CC_BY_NC_SA_3.0.txt  \n",
            "   creating: Gliomas Images/LG/0015/VSD.Brain.XX.O.MR_T2/\n",
            "  inflating: Gliomas Images/LG/0015/VSD.Brain.XX.O.MR_T2/License_CC_BY_NC_SA_3.0.txt  \n",
            "  inflating: Gliomas Images/LG/0015/VSD.Brain.XX.O.MR_T2/VSD.Brain.XX.O.MR_T2.862.mha  \n",
            "   creating: Gliomas Images/LG/0015/VSD.Brain_1more.XX.XX.OT/\n",
            "  inflating: Gliomas Images/LG/0015/VSD.Brain_1more.XX.XX.OT/VSD.Brain_1more.XX.XX.OT.6618.mha  \n"
          ],
          "name": "stdout"
        }
      ]
    },
    {
      "cell_type": "markdown",
      "metadata": {
        "id": "gzF0MtDPt3hi"
      },
      "source": [
        "## Funciones de apoyo"
      ]
    },
    {
      "cell_type": "code",
      "metadata": {
        "id": "OBWSd3iZA76y"
      },
      "source": [
        "def leer_imagen(ruta):\n",
        "    \"\"\"\n",
        "    ruta <- str: Cadena con la ruta de la imagen a leer\n",
        "    ret -> tuple(array, dict): Devuelve una tupla con el arreglo que\n",
        "                            contiene a la imagen y un diccionario con \n",
        "                            los datos del encabezado\n",
        "    \"\"\"\n",
        "    sitk_img = sitk.ReadImage(ruta)\n",
        "    encabezado = {MD: sitk_img.GetMetaData(MD) for MD in sitk_img.GetMetaDataKeys()}\n",
        "    pixel_data = sitk.GetArrayFromImage(sitk_img)\n",
        "    return pixel_data, encabezado\n",
        "\n",
        "def mostrar_img(img, cmap='gray'):\n",
        "    \"\"\"\n",
        "    img <- array: Arreglo de la imagen a mostrar\n",
        "    \"\"\"\n",
        "    plt.figure(figsize=(5,5))\n",
        "    plt.imshow(img, cmap=cmap)\n",
        "    plt.axis('off')\n",
        "    plt.show()\n",
        "\n",
        "def mostrar_corte(pixel_data, corte):\n",
        "    \"\"\"\n",
        "    pixel_data <- array: Arreglo de la imagen médica con todos los cortes\n",
        "    corte <- int: Número de corte a mostrar\n",
        "    \"\"\"\n",
        "    mostrar_img(pixel_data[:,:,corte])\n",
        "    return pixel_data[:,:,corte]\n",
        "\n",
        "def obtener_rutas(dir, tipos=None):\n",
        "    \"\"\"\n",
        "    dir <- str: Cadena con la ruta de la carpeta donde se encuentran los datos.\n",
        "                La carpeta debe tener dos subcarpetas HG y LG. A su vez, cada \n",
        "                una de estas debe tener una carpeta que contenga una carpeta\n",
        "                por cada imagen de cada tipo:\n",
        "                    * Flair\n",
        "                    * T1\n",
        "                    * T1c\n",
        "                    * T2\n",
        "                    * Máscara (que contiene la palabra 'more')\n",
        "    tipos <- list: Lista con los tipos que se desean obtener. Los tipos válidos\n",
        "                    dene encontrarse en ['Flair', 'T1', 'T1c', 'T2']\n",
        "    \n",
        "    rutas -> dict: Diccionario que contiene las rutas de cada imagen organizada \n",
        "                    de la siguiente manera:\n",
        "                        rutas[Grado][Num][Tipo]\n",
        "                    donde Grado: 'HG' o 'LG'\n",
        "                          Num: Entero correspondiente al número de la carpeta\n",
        "                                de las imágenes\n",
        "                          Tipo: 'Flair', 'T1', 'T1c', 'T2' o 'mask'\n",
        "    \"\"\"\n",
        "    if tipos is None: tipos = ['Flair', 'T1', 'T1c', 'T2']\n",
        "    rutas = {'HG':{},\n",
        "            'LG' :{}}\n",
        "    for grade in ['HG', 'LG']:\n",
        "        imgs_folder = os.listdir(os.path.join(dir, grade))\n",
        "        #print(imgs_folder)\n",
        "        for folder in imgs_folder:\n",
        "            try:\n",
        "                rutas[grade][int(folder)]={}\n",
        "            except:\n",
        "                print(f'No se guardo la carpeta {grade}/{folder}')\n",
        "                continue\n",
        "            imgnames = os.listdir(os.path.join(dir, grade, folder))\n",
        "            for img in imgnames:\n",
        "                if 'more' in img:\n",
        "                    tipo = 'mask'\n",
        "                else:\n",
        "                    tipo = img.split('_')[-1]\n",
        "                    if tipo not in tipos:\n",
        "                        continue\n",
        "                path = glob(os.path.join(dir, grade, folder, img,img+'*'))\n",
        "                if len(path)>0:\n",
        "                    rutas[grade][int(folder)][tipo] = path[0]\n",
        "    return rutas\n",
        "\n",
        "\n",
        "def devolver_validos(cortes, masks, etiquetas=[1,4], inter = 2):\n",
        "    \"\"\"\n",
        "    cortes <- array(MxNxQ): Arreglo de la imagen médica de tamaño MxNxQ, donde q es la\n",
        "                    cantidad de cortes disponibles\n",
        "    masks <- array(MxNxQ): Arreglo de las mismas dimensiones de cortes, con la información\n",
        "                    de las máscaras de segmentación con etiquetas de 0-4\n",
        "    etiquetas <- list(int): Estiquetas que se desean considerar como válidas\n",
        "    inter <- int: Intervalo de cortes a considerar, partiendo de la máscara con la región\n",
        "                de mayor área.\n",
        "\n",
        "    valid_cortes -> array(MxNx(inter*2+1)): Arreglo de la imagen médica con los cortes \n",
        "                                            válidos encontrados\n",
        "    valid_masks -> array(MxNx(inter*2+1)): Arreglo de las máscaras válidas\n",
        "    \"\"\"\n",
        "    unicos = np.unique(masks).tolist()\n",
        "    etiquetas_validas = [e for e in etiquetas if e in unicos]\n",
        "    assert len(etiquetas_validas)>0, 'No hay mascaras válidas'\n",
        "    candidatos = [masks==n for n in etiquetas_validas]\n",
        "    seleccionados = candidatos[0]\n",
        "    if len(candidatos)>1:\n",
        "        for c in candidatos[1:]:\n",
        "            seleccionados = np.logical_or(seleccionados, c)\n",
        "\n",
        "    i_max = np.argmax([np.count_nonzero(seleccionados[...,r]) for r in range(seleccionados.shape[2])])\n",
        "\n",
        "    valid_masks = seleccionados[..., i_max-inter:i_max+inter+1]\n",
        "    valid_cortes = cortes[..., i_max-inter:i_max+inter+1]\n",
        "    return valid_cortes, valid_masks, i_max"
      ],
      "execution_count": null,
      "outputs": []
    },
    {
      "cell_type": "markdown",
      "metadata": {
        "id": "KUvVdVhNQn1d"
      },
      "source": [
        "## Revisión de los datos"
      ]
    },
    {
      "cell_type": "code",
      "metadata": {
        "id": "9kj7d60FBn9p",
        "colab": {
          "base_uri": "https://localhost:8080/"
        },
        "outputId": "32c7de53-21a9-41d3-bc31-ece0a470f4ae"
      },
      "source": [
        "# Se obtienen todas las rutas disponibles de las imágenes\n",
        "# tipos <- arreglo de valores tipo ['T1', 'T1c', 'T2', 'Flair']\n",
        "rutas = obtener_rutas('/content/Gliomas Images', tipos = ['T1','T1c'])\n",
        "\n",
        "for grado in rutas:\n",
        "    disp = [str(i) for i in sorted(rutas[grado].keys())]\n",
        "    print(f'Disponibles para grado {grado}: {\", \".join(disp)}')"
      ],
      "execution_count": null,
      "outputs": [
        {
          "output_type": "stream",
          "text": [
            "Disponibles para grado HG: 1, 2, 3, 4, 5, 6, 7, 8, 9, 10, 11, 12, 13, 14, 15, 22, 24, 25, 26, 27\n",
            "Disponibles para grado LG: 1, 2, 4, 6, 8, 11, 12, 13, 14, 15\n"
          ],
          "name": "stdout"
        }
      ]
    },
    {
      "cell_type": "code",
      "metadata": {
        "id": "AIyc-8kPR2uv",
        "colab": {
          "base_uri": "https://localhost:8080/",
          "height": 550
        },
        "outputId": "9038fbc9-fd9a-4363-bfad-2a02a655ce8f"
      },
      "source": [
        "#Visualizar uno de los datos\n",
        "\n",
        "#Seleccion de las imágenes\n",
        "fname = rutas['HG'][1]['T1c']\n",
        "masks_fname = rutas['HG'][1]['mask']\n",
        "\n",
        "#Lectura de las imágenes\n",
        "cortes, _ = leer_imagen(fname)\n",
        "masks, _ = leer_imagen(masks_fname)\n",
        "print(f'Dimensiones cortes: {cortes.shape}')\n",
        "print(f'Dimensiones máscaras: {masks.shape}')\n",
        "\n",
        "\n",
        "#Mostrar un corte de las imágenes\n",
        "corte = cortes[:, :, 30]\n",
        "mask = masks[:,:, 30]\n",
        "mostrar_img(corte)\n",
        "mostrar_img(mask)\n",
        "\n",
        "print(f'Tipos disponibles {np.unique(mask)}')"
      ],
      "execution_count": null,
      "outputs": [
        {
          "output_type": "stream",
          "text": [
            "Dimensiones cortes: (176, 216, 160)\n",
            "Dimensiones máscaras: (176, 216, 160)\n"
          ],
          "name": "stdout"
        },
        {
          "output_type": "display_data",
          "data": {
            "image/png": "[encoded data removed]",
            "text/plain": [
              "<Figure size 360x360 with 1 Axes>"
            ]
          },
          "metadata": {
            "tags": [],
            "needs_background": "light"
          }
        },
        {
          "output_type": "display_data",
          "data": {
            "image/png": "[encoded data removed]",
            "text/plain": [
              "<Figure size 360x360 with 1 Axes>"
            ]
          },
          "metadata": {
            "tags": [],
            "needs_background": "light"
          }
        },
        {
          "output_type": "stream",
          "text": [
            "Tipos disponibles [0 1 2 3 4]\n"
          ],
          "name": "stdout"
        }
      ]
    },
    {
      "cell_type": "markdown",
      "metadata": {
        "id": "ec48k-9SV-cO"
      },
      "source": [
        "## Seleccionando las máscaras de interés"
      ]
    },
    {
      "cell_type": "code",
      "metadata": {
        "id": "AKylzQi_WgNh",
        "colab": {
          "base_uri": "https://localhost:8080/",
          "height": 258
        },
        "outputId": "ad1e4bbe-d582-4479-c3c2-de437d083820"
      },
      "source": [
        "#Hay 4 tipos de segmentaciones en cada imagen de máscara,\n",
        "#cada una identificada por un valor entre 1-4\n",
        "#1 necrosis - 2 edema - 3 region sin contraste - 4 Region activa (contrastada)\n",
        "mascara_seleccionada = mask==1\n",
        "mostrar_img(mascara_seleccionada)"
      ],
      "execution_count": null,
      "outputs": [
        {
          "output_type": "display_data",
          "data": {
            "image/png": "[encoded data removed]",
            "text/plain": [
              "<Figure size 360x360 with 1 Axes>"
            ]
          },
          "metadata": {
            "tags": [],
            "needs_background": "light"
          }
        }
      ]
    },
    {
      "cell_type": "code",
      "metadata": {
        "id": "EYeOOOOXW0uy",
        "colab": {
          "base_uri": "https://localhost:8080/",
          "height": 275
        },
        "outputId": "58b1d704-7ba1-40ce-d080-a44f73b8a004"
      },
      "source": [
        "#Seleccionar más de una máscara\n",
        "mascara1 = mask==1\n",
        "mascara2 = mask==2\n",
        "\n",
        "#Se genera una máscara binaria\n",
        "#np.logical_or(mascara1, mascara2)\n",
        "mascara_seleccionada = np.logical_or(mascara1, mascara2)\n",
        "mostrar_img(mascara_seleccionada)\n",
        "\n",
        "# Medición del área de la region\n",
        "area = np.count_nonzero(mascara_seleccionada)\n",
        "print(f'El área es de: {area}px')"
      ],
      "execution_count": null,
      "outputs": [
        {
          "output_type": "display_data",
          "data": {
            "image/png": "[encoded data removed]",
            "text/plain": [
              "<Figure size 360x360 with 1 Axes>"
            ]
          },
          "metadata": {
            "tags": [],
            "needs_background": "light"
          }
        },
        {
          "output_type": "stream",
          "text": [
            "El área es de: 2205px\n"
          ],
          "name": "stdout"
        }
      ]
    },
    {
      "cell_type": "markdown",
      "metadata": {
        "id": "_dNtQbJDYcdv"
      },
      "source": [
        "## Seleccionando un conjunto de máscaras cercanas a la de mayor área"
      ]
    },
    {
      "cell_type": "code",
      "metadata": {
        "id": "U9IY-KR7XQZn",
        "colab": {
          "base_uri": "https://localhost:8080/"
        },
        "outputId": "b1a5466f-b0ae-4351-e1b2-4d6ab5959655"
      },
      "source": [
        "n_cortes = masks.shape[2]\n",
        "print(f'Se tienen {n_cortes} cortes disponibles')\n",
        "areas=dict()\n",
        "for i in range(n_cortes):\n",
        "    #corte_img = cortes[:,:,i]\n",
        "    corte_mask = masks[:,:,i]\n",
        "    #Se selecciona el tipo de máscara de interés\n",
        "    mascara1 = corte_mask==1 #llenar\n",
        "    mascara2 = corte_mask==2 #llenar\n",
        "    mascara_seleccionada = np.logical_or(mascara1, mascara2)\n",
        "    # Medición del área de la region\n",
        "    area = np.count_nonzero(mascara_seleccionada)\n",
        "    #print(f'Corte {i}, area {area}px')\n",
        "    areas[i]=area"
      ],
      "execution_count": null,
      "outputs": [
        {
          "output_type": "stream",
          "text": [
            "Se tienen 160 cortes disponibles\n"
          ],
          "name": "stdout"
        }
      ]
    },
    {
      "cell_type": "code",
      "metadata": {
        "colab": {
          "base_uri": "https://localhost:8080/"
        },
        "id": "8DLwCPWeGt3n",
        "outputId": "b6114331-a24b-4145-e07c-1b5eb25992c5"
      },
      "source": [
        "print(max(areas,key=areas.get))\r\n",
        "print(max(areas.values()))\r\n",
        "#areas[33]"
      ],
      "execution_count": null,
      "outputs": [
        {
          "output_type": "stream",
          "text": [
            "43\n",
            "2616\n"
          ],
          "name": "stdout"
        }
      ]
    },
    {
      "cell_type": "code",
      "metadata": {
        "id": "VccJWknpZSug",
        "colab": {
          "base_uri": "https://localhost:8080/",
          "height": 533
        },
        "outputId": "eee8afbf-04f7-4cdb-a1e8-855f993ecb43"
      },
      "source": [
        "#Mostrar corte de mayor área\n",
        "print(\"imagen corte 43\")\n",
        "mostrar_corte(masks, 43); #llenar\n",
        "print(\"imagen corte 50\")\n",
        "mostrar_corte(masks, 50); #llenar"
      ],
      "execution_count": null,
      "outputs": [
        {
          "output_type": "stream",
          "text": [
            "imagen corte 43\n"
          ],
          "name": "stdout"
        },
        {
          "output_type": "display_data",
          "data": {
            "image/png": "[encoded data removed]",
            "text/plain": [
              "<Figure size 360x360 with 1 Axes>"
            ]
          },
          "metadata": {
            "tags": [],
            "needs_background": "light"
          }
        },
        {
          "output_type": "stream",
          "text": [
            "imagen corte 50\n"
          ],
          "name": "stdout"
        },
        {
          "output_type": "display_data",
          "data": {
            "image/png": "[encoded data removed]",
            "text/plain": [
              "<Figure size 360x360 with 1 Axes>"
            ]
          },
          "metadata": {
            "tags": [],
            "needs_background": "light"
          }
        }
      ]
    },
    {
      "cell_type": "code",
      "metadata": {
        "id": "IV4pzqAgaDhn",
        "colab": {
          "base_uri": "https://localhost:8080/",
          "height": 1000
        },
        "outputId": "f56320ef-4617-479e-b9e9-f11a564268ec"
      },
      "source": [
        "#Seleccion de la máscara de mayor región y el intervalo\n",
        "inter = 2 #llenar\n",
        "i_max = 43 #llenar\n",
        "mascaras_validas = masks[:,:,i_max-inter: i_max+inter+1]\n",
        "\n",
        "#Seleccion de los tipos de máscaras de interés\n",
        "mascaras_validas = np.logical_or(mascaras_validas==1, #llenar\n",
        "                                 mascaras_validas==2) #llenar\n",
        "\n",
        "for i in range(inter*2+1):\n",
        "    print(f'Indice de corte {i_max-inter+i}')\n",
        "    print(f'Indice de corte valido {i}')\n",
        "    mostrar_corte(mascaras_validas, i)\n",
        "\n",
        "print(mascaras_validas.shape)"
      ],
      "execution_count": null,
      "outputs": [
        {
          "output_type": "stream",
          "text": [
            "Indice de corte 41\n",
            "Indice de corte valido 0\n"
          ],
          "name": "stdout"
        },
        {
          "output_type": "display_data",
          "data": {
            "image/png": "[encoded data removed]",
            "text/plain": [
              "<Figure size 360x360 with 1 Axes>"
            ]
          },
          "metadata": {
            "tags": [],
            "needs_background": "light"
          }
        },
        {
          "output_type": "stream",
          "text": [
            "Indice de corte 42\n",
            "Indice de corte valido 1\n"
          ],
          "name": "stdout"
        },
        {
          "output_type": "display_data",
          "data": {
            "image/png": "[encoded data removed]",
            "text/plain": [
              "<Figure size 360x360 with 1 Axes>"
            ]
          },
          "metadata": {
            "tags": [],
            "needs_background": "light"
          }
        },
        {
          "output_type": "stream",
          "text": [
            "Indice de corte 43\n",
            "Indice de corte valido 2\n"
          ],
          "name": "stdout"
        },
        {
          "output_type": "display_data",
          "data": {
            "image/png": "[encoded data removed]",
            "text/plain": [
              "<Figure size 360x360 with 1 Axes>"
            ]
          },
          "metadata": {
            "tags": [],
            "needs_background": "light"
          }
        },
        {
          "output_type": "stream",
          "text": [
            "Indice de corte 44\n",
            "Indice de corte valido 3\n"
          ],
          "name": "stdout"
        },
        {
          "output_type": "display_data",
          "data": {
            "image/png": "[encoded data removed]",
            "text/plain": [
              "<Figure size 360x360 with 1 Axes>"
            ]
          },
          "metadata": {
            "tags": [],
            "needs_background": "light"
          }
        },
        {
          "output_type": "stream",
          "text": [
            "Indice de corte 45\n",
            "Indice de corte valido 4\n"
          ],
          "name": "stdout"
        },
        {
          "output_type": "display_data",
          "data": {
            "image/png": "[encoded data removed]",
            "text/plain": [
              "<Figure size 360x360 with 1 Axes>"
            ]
          },
          "metadata": {
            "tags": [],
            "needs_background": "light"
          }
        },
        {
          "output_type": "stream",
          "text": [
            "(176, 216, 5)\n"
          ],
          "name": "stdout"
        }
      ]
    },
    {
      "cell_type": "code",
      "metadata": {
        "id": "EygI4GL0gNge",
        "colab": {
          "base_uri": "https://localhost:8080/",
          "height": 550
        },
        "outputId": "535e7530-9196-4fac-f5b8-ff421cda5d22"
      },
      "source": [
        "##Usando la función \n",
        "valid_cortes, valid_masks, i_max = devolver_validos(cortes,\n",
        "                                                    masks,\n",
        "                                                    etiquetas = [1,2], #llenar\n",
        "                                                    inter=2)\n",
        "print(f'Dimensiones cortes: {valid_cortes.shape}')\n",
        "print(f'Dimensiones máscaras: {valid_masks.shape}')\n",
        "print(f'Indice del corte con área máxima: {i_max}')\n",
        "\n",
        "mostrar_corte(valid_cortes, 0)\n",
        "mostrar_corte(valid_masks, 0);"
      ],
      "execution_count": null,
      "outputs": [
        {
          "output_type": "stream",
          "text": [
            "Dimensiones cortes: (176, 216, 5)\n",
            "Dimensiones máscaras: (176, 216, 5)\n",
            "Indice del corte con área máxima: 43\n"
          ],
          "name": "stdout"
        },
        {
          "output_type": "display_data",
          "data": {
            "image/png": "[encoded data removed]",
            "text/plain": [
              "<Figure size 360x360 with 1 Axes>"
            ]
          },
          "metadata": {
            "tags": [],
            "needs_background": "light"
          }
        },
        {
          "output_type": "display_data",
          "data": {
            "image/png": "[encoded data removed]",
            "text/plain": [
              "<Figure size 360x360 with 1 Axes>"
            ]
          },
          "metadata": {
            "tags": [],
            "needs_background": "light"
          }
        }
      ]
    },
    {
      "cell_type": "markdown",
      "metadata": {
        "id": "OfweDj1We2Fe"
      },
      "source": [
        "# Extracción de características"
      ]
    },
    {
      "cell_type": "code",
      "metadata": {
        "id": "XbwNa7YugxvO",
        "colab": {
          "base_uri": "https://localhost:8080/",
          "height": 740
        },
        "outputId": "fc0b668d-3c6f-4936-cb3e-cd758e350809"
      },
      "source": [
        "#Obtención del corte de trabajo\n",
        "corte = mostrar_corte(valid_cortes, 0)\n",
        "mask = mostrar_corte(valid_masks,0)\n",
        "\n",
        "#Aplicación de la máscara de segmentación sobre la imagen\n",
        "segmentada = corte*mask\n",
        "\n",
        "#Se muestra el resultado de la segmentación\n",
        "mostrar_img(segmentada)"
      ],
      "execution_count": null,
      "outputs": [
        {
          "output_type": "display_data",
          "data": {
            "image/png": "[encoded data removed]",
            "text/plain": [
              "<Figure size 360x360 with 1 Axes>"
            ]
          },
          "metadata": {
            "tags": [],
            "needs_background": "light"
          }
        },
        {
          "output_type": "display_data",
          "data": {
            "image/png": "[encoded data removed]",
            "text/plain": [
              "<Figure size 360x360 with 1 Axes>"
            ]
          },
          "metadata": {
            "tags": [],
            "needs_background": "light"
          }
        },
        {
          "output_type": "display_data",
          "data": {
            "image/png": "[encoded data removed]",
            "text/plain": [
              "<Figure size 360x360 with 1 Axes>"
            ]
          },
          "metadata": {
            "tags": [],
            "needs_background": "light"
          }
        }
      ]
    },
    {
      "cell_type": "markdown",
      "metadata": {
        "id": "vo18ySVOe6nC"
      },
      "source": [
        "##Textura\n",
        "\n",
        "Revisar documentación de [https://mahotas.readthedocs.io/en/latest/api.html#mahotas.features.haralick](https://mahotas.readthedocs.io/en/latest/api.html#mahotas.features.haralick)"
      ]
    },
    {
      "cell_type": "code",
      "metadata": {
        "id": "5LSShRCDe4vb"
      },
      "source": [
        "from mahotas.texture import haralick\n",
        "\n",
        "#Definición de los nombres de las características\n",
        "names = ['Angular Second Moment','Contrast','Correlation','Variance','Inverse Difference Moment',\n",
        "                  'Sum Average','Sum Variance','Sum Entropy','Entropy','Difference Variance',\n",
        "                  'Difference Entropy','Info Correlation 1','Info Correlation 2']"
      ],
      "execution_count": null,
      "outputs": []
    },
    {
      "cell_type": "code",
      "metadata": {
        "id": "CkntJm02fpiN",
        "colab": {
          "base_uri": "https://localhost:8080/"
        },
        "outputId": "5f072f8d-750d-4260-a1ff-4d38053a5671"
      },
      "source": [
        "#Obtención de las características\n",
        "caract = haralick(segmentada,\n",
        "                  distance=1,\n",
        "                  return_mean=True)\n",
        "print(caract)\n",
        "print(f'Dimensiones: {caract.shape}')\n",
        "\n",
        "##Si no se obtiene el promedio:\n",
        "#names = [h+'_'+n for n in ['d1','d2','d3','d4'] for h in names]\n",
        "#print(names)"
      ],
      "execution_count": null,
      "outputs": [
        {
          "output_type": "stream",
          "text": [
            "[ 8.56699052e-01  3.25627424e+03  8.85958697e-01  1.42724171e+04\n",
            "  9.28374756e-01  6.37336973e+01  5.38333943e+04  1.08022131e+00\n",
            "  1.28521247e+00  1.04807655e-03  8.91947681e-01 -6.36597412e-01\n",
            "  8.35905890e-01]\n",
            "Dimensiones: (13,)\n"
          ],
          "name": "stdout"
        }
      ]
    },
    {
      "cell_type": "markdown",
      "metadata": {
        "id": "Ts-fCRXChv29"
      },
      "source": [
        "## Forma\n",
        "Revisar documentación de [https://scikit-image.org/docs/0.16.x/api/skimage.measure.html?highlight=regionprops#skimage.measure.regionprops](https://scikit-image.org/docs/0.16.x/api/skimage.measure.html?highlight=regionprops#skimage.measure.regionprops)"
      ]
    },
    {
      "cell_type": "code",
      "metadata": {
        "id": "y1U55fF0iJMz",
        "colab": {
          "base_uri": "https://localhost:8080/"
        },
        "outputId": "5b30113b-0c1a-4d44-c33d-386171104d65"
      },
      "source": [
        "from skimage.measure import regionprops\n",
        "\n",
        "region_props = regionprops(mask.astype(np.uint0), corte)[0]\n",
        "region_props"
      ],
      "execution_count": null,
      "outputs": [
        {
          "output_type": "execute_result",
          "data": {
            "text/plain": [
              "<skimage.measure._regionprops.RegionProperties at 0x7f3edc3c7fd0>"
            ]
          },
          "metadata": {
            "tags": []
          },
          "execution_count": 27
        }
      ]
    },
    {
      "cell_type": "code",
      "metadata": {
        "id": "s8NQhufGjxqQ",
        "colab": {
          "base_uri": "https://localhost:8080/"
        },
        "outputId": "7f40cd9a-086d-4489-a75c-6ee5f7849a38"
      },
      "source": [
        "#Obtener atributos de las regiones:\n",
        "propiedades = ['area', 'max_intensity', 'orientation']\n",
        "for prop in propiedades:\n",
        "    print(f'{prop}: {getattr(region_props, prop)}')"
      ],
      "execution_count": null,
      "outputs": [
        {
          "output_type": "stream",
          "text": [
            "area: 2614\n",
            "max_intensity: 817\n",
            "orientation: 1.1100156776166643\n"
          ],
          "name": "stdout"
        }
      ]
    },
    {
      "cell_type": "markdown",
      "metadata": {
        "id": "oLIRQmmWkbnH"
      },
      "source": [
        "#Poniendo todo junto"
      ]
    },
    {
      "cell_type": "code",
      "metadata": {
        "id": "mUnutv1bnQ7s"
      },
      "source": [
        "from mahotas.texture import haralick\n",
        "from skimage.measure import regionprops\n",
        "import pandas as pd\n",
        "from glob import glob\n",
        "\n",
        "INTER = 2\n",
        "HARALICK_DIST = 2\n",
        "HARALICK_MEAN = True\n",
        "MOSTRAR_IMGS = True\n",
        "\n",
        "#Colocar None para utilizar todos los tipos \n",
        "#o una lista con los tipos entre ['Flair', 'T1', 'T1c', 'T2']\n",
        "TIPOS = ['T1c']\n",
        "\n",
        "ETIQUETAS = [1,3]\n",
        "\n",
        "prop_car = ['area', 'max_intensity', 'orientation']\n",
        "\n",
        "#----------------------------------------------------------------------------------------------\n",
        "\n",
        "names = ['Angular Second Moment','Contrast','Correlation','Variance','Inverse Difference Moment',\n",
        "                  'Sum Average','Sum Variance','Sum Entropy','Entropy','Difference Variance',\n",
        "                  'Difference Entropy','Info Correlation 1','Info Correlation 2']\n",
        "                  \n",
        "if not HARALICK_MEAN: \n",
        "    names = [h+'_'+n for n in ['d1','d2','d3','d4'] for h in names]\n",
        "\n",
        "names.extend(prop_car)\n",
        "names.extend(['Tipo','Grado'])\n",
        "\n",
        "grados_dict = {'HG':1, 'LG':0}\n",
        "tipos_dict = {'T1':0, 'T1c':1, 'T2':2, 'Flair':3}\n",
        "\n",
        "imgs_rutas = obtener_rutas('/content/Gliomas Images', tipos = TIPOS)\n",
        "\n",
        "data = []\n",
        "counter = 0\n",
        "for grado in imgs_rutas:\n",
        "    for folder in imgs_rutas[grado]:\n",
        "        masks,_ = leer_imagen(imgs_rutas[grado][folder]['mask'])\n",
        "        for tipo in imgs_rutas[grado][folder]:\n",
        "            if tipo=='mask':continue\n",
        "            print(f'Revisando imagenes {grado}-{folder}-{tipo}.', end='')\n",
        "            cortes,_ = leer_imagen(imgs_rutas[grado][folder][tipo])\n",
        "            try:\n",
        "                valid_cortes, valid_masks, _ = devolver_validos(cortes, masks, inter=INTER, etiquetas=ETIQUETAS)\n",
        "            except:\n",
        "                print('... No hay máscaras válidas... Saltando.')\n",
        "                continue\n",
        "            ncortes = valid_cortes.shape[2]\n",
        "            print(f' Cortes validos = {ncortes}')\n",
        "            if MOSTRAR_IMGS:\n",
        "                mostrar_corte(valid_cortes, INTER)\n",
        "                mostrar_corte(valid_masks, INTER)\n",
        "            print('\\tProcesando corte ', end='')\n",
        "            for corte_i in range(ncortes):\n",
        "                print(f'{corte_i+1}... ', end='')\n",
        "                mask = valid_masks[:,:,corte_i]\n",
        "                corte = valid_cortes[:,:,corte_i]\n",
        "                segmentada = corte*mask\n",
        "                har_car = haralick(segmentada,\n",
        "                                   ignore_zeros=False,\n",
        "                                   distance=HARALICK_DIST,\n",
        "                                   return_mean=HARALICK_MEAN).flatten()\n",
        "                reg_props=regionprops(mask.astype(np.uint0), corte)\n",
        "                if len(reg_props)==0:\n",
        "                    print('Saltando... No reg_props')\n",
        "                    continue\n",
        "                reg_props_arr = [getattr(reg_props[0], prop) for prop in prop_car]\n",
        "                por_corte = har_car.tolist() + reg_props_arr\n",
        "                data.append(por_corte + [tipos_dict[tipo], grados_dict[grado]])\n",
        "            print('Imágenes procesadas', end='\\n')"
      ],
      "execution_count": null,
      "outputs": []
    },
    {
      "cell_type": "code",
      "metadata": {
        "id": "gFCkSXqvQT4v",
        "colab": {
          "base_uri": "https://localhost:8080/",
          "height": 490
        },
        "outputId": "82792c80-828f-45d6-bb2d-338b77029c09"
      },
      "source": [
        "##Se genera el dataframe\n",
        "data_arr = np.array(data)\n",
        "n_muestras, n_caract = data_arr.shape\n",
        "print(f'Se tienen {n_muestras} muestras con {n_caract-2} características')\n",
        "df = pd.DataFrame(data_arr, columns = names)\n",
        "df.head(-10)"
      ],
      "execution_count": null,
      "outputs": [
        {
          "output_type": "stream",
          "text": [
            "Se tienen 145 muestras con 16 características\n"
          ],
          "name": "stdout"
        },
        {
          "output_type": "execute_result",
          "data": {
            "text/html": [
              "<div>\n",
              "<style scoped>\n",
              "    .dataframe tbody tr th:only-of-type {\n",
              "        vertical-align: middle;\n",
              "    }\n",
              "\n",
              "    .dataframe tbody tr th {\n",
              "        vertical-align: top;\n",
              "    }\n",
              "\n",
              "    .dataframe thead th {\n",
              "        text-align: right;\n",
              "    }\n",
              "</style>\n",
              "<table border=\"1\" class=\"dataframe\">\n",
              "  <thead>\n",
              "    <tr style=\"text-align: right;\">\n",
              "      <th></th>\n",
              "      <th>Angular Second Moment</th>\n",
              "      <th>Contrast</th>\n",
              "      <th>Correlation</th>\n",
              "      <th>Variance</th>\n",
              "      <th>Inverse Difference Moment</th>\n",
              "      <th>Sum Average</th>\n",
              "      <th>Sum Variance</th>\n",
              "      <th>Sum Entropy</th>\n",
              "      <th>Entropy</th>\n",
              "      <th>Difference Variance</th>\n",
              "      <th>Difference Entropy</th>\n",
              "      <th>Info Correlation 1</th>\n",
              "      <th>Info Correlation 2</th>\n",
              "      <th>area</th>\n",
              "      <th>max_intensity</th>\n",
              "      <th>orientation</th>\n",
              "      <th>Tipo</th>\n",
              "      <th>Grado</th>\n",
              "    </tr>\n",
              "  </thead>\n",
              "  <tbody>\n",
              "    <tr>\n",
              "      <th>0</th>\n",
              "      <td>0.918319</td>\n",
              "      <td>1969.484929</td>\n",
              "      <td>0.698848</td>\n",
              "      <td>3267.690349</td>\n",
              "      <td>0.958956</td>\n",
              "      <td>20.791166</td>\n",
              "      <td>11101.276468</td>\n",
              "      <td>0.612380</td>\n",
              "      <td>0.696011</td>\n",
              "      <td>0.001720</td>\n",
              "      <td>0.575986</td>\n",
              "      <td>-0.470618</td>\n",
              "      <td>0.589603</td>\n",
              "      <td>1231.0</td>\n",
              "      <td>532.0</td>\n",
              "      <td>-0.973472</td>\n",
              "      <td>1.0</td>\n",
              "      <td>1.0</td>\n",
              "    </tr>\n",
              "    <tr>\n",
              "      <th>1</th>\n",
              "      <td>0.918305</td>\n",
              "      <td>1898.525912</td>\n",
              "      <td>0.711276</td>\n",
              "      <td>3285.086449</td>\n",
              "      <td>0.959011</td>\n",
              "      <td>20.958470</td>\n",
              "      <td>11241.819885</td>\n",
              "      <td>0.612302</td>\n",
              "      <td>0.697953</td>\n",
              "      <td>0.001724</td>\n",
              "      <td>0.573013</td>\n",
              "      <td>-0.473007</td>\n",
              "      <td>0.591597</td>\n",
              "      <td>1241.0</td>\n",
              "      <td>531.0</td>\n",
              "      <td>-0.971478</td>\n",
              "      <td>1.0</td>\n",
              "      <td>1.0</td>\n",
              "    </tr>\n",
              "    <tr>\n",
              "      <th>2</th>\n",
              "      <td>0.917525</td>\n",
              "      <td>1770.303688</td>\n",
              "      <td>0.738522</td>\n",
              "      <td>3382.378818</td>\n",
              "      <td>0.958595</td>\n",
              "      <td>21.582211</td>\n",
              "      <td>11759.211586</td>\n",
              "      <td>0.619879</td>\n",
              "      <td>0.709395</td>\n",
              "      <td>0.001709</td>\n",
              "      <td>0.577401</td>\n",
              "      <td>-0.493033</td>\n",
              "      <td>0.608629</td>\n",
              "      <td>1279.0</td>\n",
              "      <td>535.0</td>\n",
              "      <td>-0.940886</td>\n",
              "      <td>1.0</td>\n",
              "      <td>1.0</td>\n",
              "    </tr>\n",
              "    <tr>\n",
              "      <th>3</th>\n",
              "      <td>0.920407</td>\n",
              "      <td>1665.463845</td>\n",
              "      <td>0.744042</td>\n",
              "      <td>3250.649373</td>\n",
              "      <td>0.960045</td>\n",
              "      <td>20.796296</td>\n",
              "      <td>11337.133647</td>\n",
              "      <td>0.598188</td>\n",
              "      <td>0.683468</td>\n",
              "      <td>0.001910</td>\n",
              "      <td>0.556848</td>\n",
              "      <td>-0.498129</td>\n",
              "      <td>0.603012</td>\n",
              "      <td>1234.0</td>\n",
              "      <td>480.0</td>\n",
              "      <td>-0.941628</td>\n",
              "      <td>1.0</td>\n",
              "      <td>1.0</td>\n",
              "    </tr>\n",
              "    <tr>\n",
              "      <th>4</th>\n",
              "      <td>0.926260</td>\n",
              "      <td>1691.827750</td>\n",
              "      <td>0.718446</td>\n",
              "      <td>3002.000632</td>\n",
              "      <td>0.963074</td>\n",
              "      <td>18.983903</td>\n",
              "      <td>10316.174780</td>\n",
              "      <td>0.557395</td>\n",
              "      <td>0.630945</td>\n",
              "      <td>0.001922</td>\n",
              "      <td>0.521591</td>\n",
              "      <td>-0.486666</td>\n",
              "      <td>0.576848</td>\n",
              "      <td>1118.0</td>\n",
              "      <td>480.0</td>\n",
              "      <td>-0.973915</td>\n",
              "      <td>1.0</td>\n",
              "      <td>1.0</td>\n",
              "    </tr>\n",
              "    <tr>\n",
              "      <th>...</th>\n",
              "      <td>...</td>\n",
              "      <td>...</td>\n",
              "      <td>...</td>\n",
              "      <td>...</td>\n",
              "      <td>...</td>\n",
              "      <td>...</td>\n",
              "      <td>...</td>\n",
              "      <td>...</td>\n",
              "      <td>...</td>\n",
              "      <td>...</td>\n",
              "      <td>...</td>\n",
              "      <td>...</td>\n",
              "      <td>...</td>\n",
              "      <td>...</td>\n",
              "      <td>...</td>\n",
              "      <td>...</td>\n",
              "      <td>...</td>\n",
              "      <td>...</td>\n",
              "    </tr>\n",
              "    <tr>\n",
              "      <th>130</th>\n",
              "      <td>0.833329</td>\n",
              "      <td>3760.468935</td>\n",
              "      <td>0.782548</td>\n",
              "      <td>8643.822965</td>\n",
              "      <td>0.914895</td>\n",
              "      <td>52.315432</td>\n",
              "      <td>30814.822927</td>\n",
              "      <td>1.194865</td>\n",
              "      <td>1.456406</td>\n",
              "      <td>0.001551</td>\n",
              "      <td>1.075678</td>\n",
              "      <td>-0.482411</td>\n",
              "      <td>0.776974</td>\n",
              "      <td>3077.0</td>\n",
              "      <td>536.0</td>\n",
              "      <td>-1.488045</td>\n",
              "      <td>1.0</td>\n",
              "      <td>0.0</td>\n",
              "    </tr>\n",
              "    <tr>\n",
              "      <th>131</th>\n",
              "      <td>0.832883</td>\n",
              "      <td>3474.918557</td>\n",
              "      <td>0.799381</td>\n",
              "      <td>8657.515446</td>\n",
              "      <td>0.914636</td>\n",
              "      <td>52.727662</td>\n",
              "      <td>31155.143229</td>\n",
              "      <td>1.199165</td>\n",
              "      <td>1.467477</td>\n",
              "      <td>0.001635</td>\n",
              "      <td>1.074447</td>\n",
              "      <td>-0.485950</td>\n",
              "      <td>0.781025</td>\n",
              "      <td>3116.0</td>\n",
              "      <td>508.0</td>\n",
              "      <td>-1.524181</td>\n",
              "      <td>1.0</td>\n",
              "      <td>0.0</td>\n",
              "    </tr>\n",
              "    <tr>\n",
              "      <th>132</th>\n",
              "      <td>0.831478</td>\n",
              "      <td>3219.799787</td>\n",
              "      <td>0.814366</td>\n",
              "      <td>8669.118072</td>\n",
              "      <td>0.914195</td>\n",
              "      <td>53.339114</td>\n",
              "      <td>31456.672501</td>\n",
              "      <td>1.211236</td>\n",
              "      <td>1.486507</td>\n",
              "      <td>0.001471</td>\n",
              "      <td>1.076758</td>\n",
              "      <td>-0.496980</td>\n",
              "      <td>0.790992</td>\n",
              "      <td>3182.0</td>\n",
              "      <td>564.0</td>\n",
              "      <td>-1.534147</td>\n",
              "      <td>1.0</td>\n",
              "      <td>0.0</td>\n",
              "    </tr>\n",
              "    <tr>\n",
              "      <th>133</th>\n",
              "      <td>0.832256</td>\n",
              "      <td>3167.159595</td>\n",
              "      <td>0.813319</td>\n",
              "      <td>8478.570376</td>\n",
              "      <td>0.914583</td>\n",
              "      <td>52.535770</td>\n",
              "      <td>30747.121910</td>\n",
              "      <td>1.210345</td>\n",
              "      <td>1.483552</td>\n",
              "      <td>0.001475</td>\n",
              "      <td>1.074503</td>\n",
              "      <td>-0.496725</td>\n",
              "      <td>0.790305</td>\n",
              "      <td>3162.0</td>\n",
              "      <td>563.0</td>\n",
              "      <td>-1.546962</td>\n",
              "      <td>1.0</td>\n",
              "      <td>0.0</td>\n",
              "    </tr>\n",
              "    <tr>\n",
              "      <th>134</th>\n",
              "      <td>0.834219</td>\n",
              "      <td>2895.771616</td>\n",
              "      <td>0.827658</td>\n",
              "      <td>8396.756523</td>\n",
              "      <td>0.915717</td>\n",
              "      <td>52.142407</td>\n",
              "      <td>30691.254477</td>\n",
              "      <td>1.198271</td>\n",
              "      <td>1.470749</td>\n",
              "      <td>0.001567</td>\n",
              "      <td>1.060165</td>\n",
              "      <td>-0.506041</td>\n",
              "      <td>0.794064</td>\n",
              "      <td>3148.0</td>\n",
              "      <td>531.0</td>\n",
              "      <td>-1.561501</td>\n",
              "      <td>1.0</td>\n",
              "      <td>0.0</td>\n",
              "    </tr>\n",
              "  </tbody>\n",
              "</table>\n",
              "<p>135 rows × 18 columns</p>\n",
              "</div>"
            ],
            "text/plain": [
              "     Angular Second Moment     Contrast  Correlation  ...  orientation  Tipo  Grado\n",
              "0                 0.918319  1969.484929     0.698848  ...    -0.973472   1.0    1.0\n",
              "1                 0.918305  1898.525912     0.711276  ...    -0.971478   1.0    1.0\n",
              "2                 0.917525  1770.303688     0.738522  ...    -0.940886   1.0    1.0\n",
              "3                 0.920407  1665.463845     0.744042  ...    -0.941628   1.0    1.0\n",
              "4                 0.926260  1691.827750     0.718446  ...    -0.973915   1.0    1.0\n",
              "..                     ...          ...          ...  ...          ...   ...    ...\n",
              "130               0.833329  3760.468935     0.782548  ...    -1.488045   1.0    0.0\n",
              "131               0.832883  3474.918557     0.799381  ...    -1.524181   1.0    0.0\n",
              "132               0.831478  3219.799787     0.814366  ...    -1.534147   1.0    0.0\n",
              "133               0.832256  3167.159595     0.813319  ...    -1.546962   1.0    0.0\n",
              "134               0.834219  2895.771616     0.827658  ...    -1.561501   1.0    0.0\n",
              "\n",
              "[135 rows x 18 columns]"
            ]
          },
          "metadata": {
            "tags": []
          },
          "execution_count": 30
        }
      ]
    },
    {
      "cell_type": "markdown",
      "metadata": {
        "id": "Ua_lyTnitPbL"
      },
      "source": [
        "# Separabilidad"
      ]
    },
    {
      "cell_type": "code",
      "metadata": {
        "id": "PshU68ORtWND",
        "colab": {
          "base_uri": "https://localhost:8080/",
          "height": 428
        },
        "outputId": "f509b130-fcad-4f9d-ab2c-5a82e7b17650"
      },
      "source": [
        "#Visualización de características en 2 dimensiones\n",
        "caract1 = 'area'\n",
        "caract2 = 'Sum Average' #True en el codigo de arriba sobre haralik\n",
        "caract2 = 'Contrast' #True en el codigo de arriba sobre haralik\n",
        "\n",
        "hg = df[df.Grado==1]\n",
        "lg = df[df.Grado==0]\n",
        "\n",
        "plt.figure(figsize=(7,7))\n",
        "plt.plot(hg[caract1], hg[caract2], 'b.', label='HG')\n",
        "plt.plot(lg[caract1], lg[caract2], 'r.', label='LG')\n",
        "plt.legend()\n",
        "plt.show()"
      ],
      "execution_count": null,
      "outputs": [
        {
          "output_type": "display_data",
          "data": {
            "image/png": "[encoded data removed]",
            "text/plain": [
              "<Figure size 504x504 with 1 Axes>"
            ]
          },
          "metadata": {
            "tags": [],
            "needs_background": "light"
          }
        }
      ]
    },
    {
      "cell_type": "code",
      "metadata": {
        "id": "s7D7HLpLvIwY",
        "colab": {
          "base_uri": "https://localhost:8080/",
          "height": 411
        },
        "outputId": "b9bc4ce8-5426-44cd-8aa7-d8e8f5f98f0b"
      },
      "source": [
        "#Visualización de características en 3 dimensiones\n",
        "from mpl_toolkits.mplot3d import Axes3D\n",
        "\n",
        "caract1 = 'area'\n",
        "caract2 = 'Sum Average'\n",
        "caract2 = 'Contrast'\n",
        "caract3 = 'Variance'\n",
        "\n",
        "\n",
        "rot_y = 120\n",
        "rot_x = 100\n",
        "fig = plt.figure(figsize=(7,7))\n",
        "ax = fig.add_subplot(111, projection='3d')\n",
        "ax.view_init(rot_y, rot_x)\n",
        "ax.scatter(hg[caract1], hg[caract2], hg[caract3], 'b.', label='HG')\n",
        "ax.scatter(lg[caract1], lg[caract2], lg[caract3], 'r.', label='LG')\n",
        "\n",
        "plt.legend()\n",
        "plt.show()"
      ],
      "execution_count": null,
      "outputs": [
        {
          "output_type": "display_data",
          "data": {
            "image/png": "[encoded data removed]",
            "text/plain": [
              "<Figure size 504x504 with 1 Axes>"
            ]
          },
          "metadata": {
            "tags": [],
            "needs_background": "light"
          }
        }
      ]
    },
    {
      "cell_type": "markdown",
      "metadata": {
        "id": "oZ9MxAczwlpq"
      },
      "source": [
        "## PCA\n",
        "Para mayor información sobre el análisis de componentes principales, visitar https://towardsdatascience.com/principal-component-analysis-pca-with-scikit-learn-1e84a0c731b0"
      ]
    },
    {
      "cell_type": "code",
      "metadata": {
        "id": "KX9VBbI1Qa5M",
        "colab": {
          "base_uri": "https://localhost:8080/",
          "height": 276
        },
        "outputId": "40e56bf9-bec7-4721-9e34-de7a6b4b46b7"
      },
      "source": [
        "from sklearn.decomposition import PCA\n",
        "\n",
        "#Se seleccionan los datos de nuestro DataFrame\n",
        "X = df.iloc[:,:-1]\n",
        "y = df.Grado\n",
        "\n",
        "#Se indica el número de componentes a conservar\n",
        "n_componentes = 10\n",
        "pca = PCA(n_components = n_componentes)\n",
        "X = pca.fit_transform(X)\n",
        "\n",
        "plt.plot(pca.explained_variance_)\n",
        "plt.show()"
      ],
      "execution_count": null,
      "outputs": [
        {
          "output_type": "display_data",
          "data": {
            "image/png": "[encoded data removed]",
            "text/plain": [
              "<Figure size 432x288 with 1 Axes>"
            ]
          },
          "metadata": {
            "tags": [],
            "needs_background": "light"
          }
        }
      ]
    },
    {
      "cell_type": "code",
      "metadata": {
        "id": "M02TkO7dxayN",
        "colab": {
          "base_uri": "https://localhost:8080/",
          "height": 428
        },
        "outputId": "d17be733-91c2-46e7-bdd5-120662e0d427"
      },
      "source": [
        "#Visualización de los dos primeros componentes\n",
        "hg = X[y==1]\n",
        "lg = X[y==0]\n",
        "\n",
        "plt.figure(figsize=(7,7))\n",
        "plt.plot(hg[:, 0], hg[:, 1], 'b.', label='HG')\n",
        "plt.plot(lg[:, 0], lg[:, 1], 'r.', label='LG')\n",
        "plt.legend()\n",
        "\n",
        "plt.show()"
      ],
      "execution_count": null,
      "outputs": [
        {
          "output_type": "display_data",
          "data": {
            "image/png": "[encoded data removed]",
            "text/plain": [
              "<Figure size 504x504 with 1 Axes>"
            ]
          },
          "metadata": {
            "tags": [],
            "needs_background": "light"
          }
        }
      ]
    },
    {
      "cell_type": "code",
      "metadata": {
        "id": "5nmk5qKrz7_Z",
        "colab": {
          "base_uri": "https://localhost:8080/",
          "height": 411
        },
        "outputId": "4a4b489e-e637-4b69-ced2-4d1975503b10"
      },
      "source": [
        "rot_y = 120\n",
        "rot_x = -30\n",
        "fig = plt.figure(figsize=(7,7))\n",
        "ax = fig.add_subplot(111, projection='3d')\n",
        "ax.view_init(rot_y, rot_x)\n",
        "ax.scatter(hg[:, 0], hg[:, 1], hg[:, 2], 'b.', label='HG')\n",
        "ax.scatter(lg[:, 0], lg[:, 1], lg[:, 2], 'r.', label='LG')\n",
        "\n",
        "plt.legend()\n",
        "plt.show()"
      ],
      "execution_count": null,
      "outputs": [
        {
          "output_type": "display_data",
          "data": {
            "image/png": "[encoded data removed]",
            "text/plain": [
              "<Figure size 504x504 with 1 Axes>"
            ]
          },
          "metadata": {
            "tags": [],
            "needs_background": "light"
          }
        }
      ]
    },
    {
      "cell_type": "code",
      "metadata": {
        "id": "oLaN1jmyW_AZ",
        "colab": {
          "base_uri": "https://localhost:8080/",
          "height": 204
        },
        "outputId": "d78bbcb7-1ca2-4580-aeda-7fd6fec91720"
      },
      "source": [
        "#Se arma el nuevo DataFrame\n",
        "names = [f'comp{i}' for i in range(X.shape[1])]\n",
        "newdf = pd.DataFrame(X, columns = names)\n",
        "newdf['Grado'] = y\n",
        "newdf.head()\n"
      ],
      "execution_count": null,
      "outputs": [
        {
          "output_type": "execute_result",
          "data": {
            "text/html": [
              "<div>\n",
              "<style scoped>\n",
              "    .dataframe tbody tr th:only-of-type {\n",
              "        vertical-align: middle;\n",
              "    }\n",
              "\n",
              "    .dataframe tbody tr th {\n",
              "        vertical-align: top;\n",
              "    }\n",
              "\n",
              "    .dataframe thead th {\n",
              "        text-align: right;\n",
              "    }\n",
              "</style>\n",
              "<table border=\"1\" class=\"dataframe\">\n",
              "  <thead>\n",
              "    <tr style=\"text-align: right;\">\n",
              "      <th></th>\n",
              "      <th>comp0</th>\n",
              "      <th>comp1</th>\n",
              "      <th>comp2</th>\n",
              "      <th>comp3</th>\n",
              "      <th>comp4</th>\n",
              "      <th>comp5</th>\n",
              "      <th>comp6</th>\n",
              "      <th>comp7</th>\n",
              "      <th>comp8</th>\n",
              "      <th>comp9</th>\n",
              "      <th>Grado</th>\n",
              "    </tr>\n",
              "  </thead>\n",
              "  <tbody>\n",
              "    <tr>\n",
              "      <th>0</th>\n",
              "      <td>5631.998604</td>\n",
              "      <td>326.346177</td>\n",
              "      <td>-406.548475</td>\n",
              "      <td>-130.085321</td>\n",
              "      <td>-2.981213</td>\n",
              "      <td>-0.267454</td>\n",
              "      <td>-0.072599</td>\n",
              "      <td>-0.073312</td>\n",
              "      <td>-0.053555</td>\n",
              "      <td>0.016603</td>\n",
              "      <td>1.0</td>\n",
              "    </tr>\n",
              "    <tr>\n",
              "      <th>1</th>\n",
              "      <td>5764.848138</td>\n",
              "      <td>256.108027</td>\n",
              "      <td>-360.041904</td>\n",
              "      <td>-108.966082</td>\n",
              "      <td>-3.061578</td>\n",
              "      <td>-0.281360</td>\n",
              "      <td>-0.070938</td>\n",
              "      <td>-0.066515</td>\n",
              "      <td>-0.056323</td>\n",
              "      <td>0.019827</td>\n",
              "      <td>1.0</td>\n",
              "    </tr>\n",
              "    <tr>\n",
              "      <th>2</th>\n",
              "      <td>6275.713642</td>\n",
              "      <td>103.461876</td>\n",
              "      <td>-268.198939</td>\n",
              "      <td>-60.574395</td>\n",
              "      <td>-3.168091</td>\n",
              "      <td>-0.278161</td>\n",
              "      <td>-0.077588</td>\n",
              "      <td>-0.057771</td>\n",
              "      <td>-0.051178</td>\n",
              "      <td>0.023787</td>\n",
              "      <td>1.0</td>\n",
              "    </tr>\n",
              "    <tr>\n",
              "      <th>3</th>\n",
              "      <td>5823.482124</td>\n",
              "      <td>54.438689</td>\n",
              "      <td>-208.733067</td>\n",
              "      <td>-93.613958</td>\n",
              "      <td>-3.301022</td>\n",
              "      <td>-0.356947</td>\n",
              "      <td>-0.090067</td>\n",
              "      <td>-0.057244</td>\n",
              "      <td>-0.041649</td>\n",
              "      <td>0.026174</td>\n",
              "      <td>1.0</td>\n",
              "    </tr>\n",
              "    <tr>\n",
              "      <th>4</th>\n",
              "      <td>4777.172763</td>\n",
              "      <td>203.562524</td>\n",
              "      <td>-222.878248</td>\n",
              "      <td>-127.320853</td>\n",
              "      <td>-2.976633</td>\n",
              "      <td>-0.454702</td>\n",
              "      <td>-0.097680</td>\n",
              "      <td>-0.062311</td>\n",
              "      <td>-0.040512</td>\n",
              "      <td>0.024290</td>\n",
              "      <td>1.0</td>\n",
              "    </tr>\n",
              "  </tbody>\n",
              "</table>\n",
              "</div>"
            ],
            "text/plain": [
              "         comp0       comp1       comp2  ...     comp8     comp9  Grado\n",
              "0  5631.998604  326.346177 -406.548475  ... -0.053555  0.016603    1.0\n",
              "1  5764.848138  256.108027 -360.041904  ... -0.056323  0.019827    1.0\n",
              "2  6275.713642  103.461876 -268.198939  ... -0.051178  0.023787    1.0\n",
              "3  5823.482124   54.438689 -208.733067  ... -0.041649  0.026174    1.0\n",
              "4  4777.172763  203.562524 -222.878248  ... -0.040512  0.024290    1.0\n",
              "\n",
              "[5 rows x 11 columns]"
            ]
          },
          "metadata": {
            "tags": []
          },
          "execution_count": 38
        }
      ]
    },
    {
      "cell_type": "markdown",
      "metadata": {
        "id": "2CbrfTmn7cp2"
      },
      "source": [
        "# Guardado de datos"
      ]
    },
    {
      "cell_type": "code",
      "metadata": {
        "id": "Q59mdWhAYto1"
      },
      "source": [
        "#Se guardan los archivos para su uso posterior\n",
        "df.to_csv('raw_data.csv')\n",
        "newdf.to_csv('pca_data.csv')"
      ],
      "execution_count": null,
      "outputs": []
    },
    {
      "cell_type": "code",
      "metadata": {
        "colab": {
          "base_uri": "https://localhost:8080/",
          "height": 473
        },
        "id": "jkdiASsRM-te",
        "outputId": "a8384eee-8add-4930-d54e-62f5408cd017"
      },
      "source": [
        "df # tipo 1 y 2"
      ],
      "execution_count": null,
      "outputs": [
        {
          "output_type": "execute_result",
          "data": {
            "text/html": [
              "<div>\n",
              "<style scoped>\n",
              "    .dataframe tbody tr th:only-of-type {\n",
              "        vertical-align: middle;\n",
              "    }\n",
              "\n",
              "    .dataframe tbody tr th {\n",
              "        vertical-align: top;\n",
              "    }\n",
              "\n",
              "    .dataframe thead th {\n",
              "        text-align: right;\n",
              "    }\n",
              "</style>\n",
              "<table border=\"1\" class=\"dataframe\">\n",
              "  <thead>\n",
              "    <tr style=\"text-align: right;\">\n",
              "      <th></th>\n",
              "      <th>Angular Second Moment</th>\n",
              "      <th>Contrast</th>\n",
              "      <th>Correlation</th>\n",
              "      <th>Variance</th>\n",
              "      <th>Inverse Difference Moment</th>\n",
              "      <th>Sum Average</th>\n",
              "      <th>Sum Variance</th>\n",
              "      <th>Sum Entropy</th>\n",
              "      <th>Entropy</th>\n",
              "      <th>Difference Variance</th>\n",
              "      <th>Difference Entropy</th>\n",
              "      <th>Info Correlation 1</th>\n",
              "      <th>Info Correlation 2</th>\n",
              "      <th>area</th>\n",
              "      <th>max_intensity</th>\n",
              "      <th>orientation</th>\n",
              "      <th>Tipo</th>\n",
              "      <th>Grado</th>\n",
              "    </tr>\n",
              "  </thead>\n",
              "  <tbody>\n",
              "    <tr>\n",
              "      <th>0</th>\n",
              "      <td>0.918319</td>\n",
              "      <td>1969.484929</td>\n",
              "      <td>0.698848</td>\n",
              "      <td>3267.690349</td>\n",
              "      <td>0.958956</td>\n",
              "      <td>20.791166</td>\n",
              "      <td>11101.276468</td>\n",
              "      <td>0.612380</td>\n",
              "      <td>0.696011</td>\n",
              "      <td>0.001720</td>\n",
              "      <td>0.575986</td>\n",
              "      <td>-0.470618</td>\n",
              "      <td>0.589603</td>\n",
              "      <td>1231.0</td>\n",
              "      <td>532.0</td>\n",
              "      <td>-0.973472</td>\n",
              "      <td>1.0</td>\n",
              "      <td>1.0</td>\n",
              "    </tr>\n",
              "    <tr>\n",
              "      <th>1</th>\n",
              "      <td>0.918305</td>\n",
              "      <td>1898.525912</td>\n",
              "      <td>0.711276</td>\n",
              "      <td>3285.086449</td>\n",
              "      <td>0.959011</td>\n",
              "      <td>20.958470</td>\n",
              "      <td>11241.819885</td>\n",
              "      <td>0.612302</td>\n",
              "      <td>0.697953</td>\n",
              "      <td>0.001724</td>\n",
              "      <td>0.573013</td>\n",
              "      <td>-0.473007</td>\n",
              "      <td>0.591597</td>\n",
              "      <td>1241.0</td>\n",
              "      <td>531.0</td>\n",
              "      <td>-0.971478</td>\n",
              "      <td>1.0</td>\n",
              "      <td>1.0</td>\n",
              "    </tr>\n",
              "    <tr>\n",
              "      <th>2</th>\n",
              "      <td>0.917525</td>\n",
              "      <td>1770.303688</td>\n",
              "      <td>0.738522</td>\n",
              "      <td>3382.378818</td>\n",
              "      <td>0.958595</td>\n",
              "      <td>21.582211</td>\n",
              "      <td>11759.211586</td>\n",
              "      <td>0.619879</td>\n",
              "      <td>0.709395</td>\n",
              "      <td>0.001709</td>\n",
              "      <td>0.577401</td>\n",
              "      <td>-0.493033</td>\n",
              "      <td>0.608629</td>\n",
              "      <td>1279.0</td>\n",
              "      <td>535.0</td>\n",
              "      <td>-0.940886</td>\n",
              "      <td>1.0</td>\n",
              "      <td>1.0</td>\n",
              "    </tr>\n",
              "    <tr>\n",
              "      <th>3</th>\n",
              "      <td>0.920407</td>\n",
              "      <td>1665.463845</td>\n",
              "      <td>0.744042</td>\n",
              "      <td>3250.649373</td>\n",
              "      <td>0.960045</td>\n",
              "      <td>20.796296</td>\n",
              "      <td>11337.133647</td>\n",
              "      <td>0.598188</td>\n",
              "      <td>0.683468</td>\n",
              "      <td>0.001910</td>\n",
              "      <td>0.556848</td>\n",
              "      <td>-0.498129</td>\n",
              "      <td>0.603012</td>\n",
              "      <td>1234.0</td>\n",
              "      <td>480.0</td>\n",
              "      <td>-0.941628</td>\n",
              "      <td>1.0</td>\n",
              "      <td>1.0</td>\n",
              "    </tr>\n",
              "    <tr>\n",
              "      <th>4</th>\n",
              "      <td>0.926260</td>\n",
              "      <td>1691.827750</td>\n",
              "      <td>0.718446</td>\n",
              "      <td>3002.000632</td>\n",
              "      <td>0.963074</td>\n",
              "      <td>18.983903</td>\n",
              "      <td>10316.174780</td>\n",
              "      <td>0.557395</td>\n",
              "      <td>0.630945</td>\n",
              "      <td>0.001922</td>\n",
              "      <td>0.521591</td>\n",
              "      <td>-0.486666</td>\n",
              "      <td>0.576848</td>\n",
              "      <td>1118.0</td>\n",
              "      <td>480.0</td>\n",
              "      <td>-0.973915</td>\n",
              "      <td>1.0</td>\n",
              "      <td>1.0</td>\n",
              "    </tr>\n",
              "    <tr>\n",
              "      <th>...</th>\n",
              "      <td>...</td>\n",
              "      <td>...</td>\n",
              "      <td>...</td>\n",
              "      <td>...</td>\n",
              "      <td>...</td>\n",
              "      <td>...</td>\n",
              "      <td>...</td>\n",
              "      <td>...</td>\n",
              "      <td>...</td>\n",
              "      <td>...</td>\n",
              "      <td>...</td>\n",
              "      <td>...</td>\n",
              "      <td>...</td>\n",
              "      <td>...</td>\n",
              "      <td>...</td>\n",
              "      <td>...</td>\n",
              "      <td>...</td>\n",
              "      <td>...</td>\n",
              "    </tr>\n",
              "    <tr>\n",
              "      <th>140</th>\n",
              "      <td>0.955249</td>\n",
              "      <td>866.627589</td>\n",
              "      <td>0.660656</td>\n",
              "      <td>1276.078633</td>\n",
              "      <td>0.977730</td>\n",
              "      <td>9.256608</td>\n",
              "      <td>4237.686943</td>\n",
              "      <td>0.344569</td>\n",
              "      <td>0.384204</td>\n",
              "      <td>0.002286</td>\n",
              "      <td>0.330194</td>\n",
              "      <td>-0.564263</td>\n",
              "      <td>0.510199</td>\n",
              "      <td>611.0</td>\n",
              "      <td>416.0</td>\n",
              "      <td>-0.451502</td>\n",
              "      <td>1.0</td>\n",
              "      <td>0.0</td>\n",
              "    </tr>\n",
              "    <tr>\n",
              "      <th>141</th>\n",
              "      <td>0.952818</td>\n",
              "      <td>761.739118</td>\n",
              "      <td>0.704816</td>\n",
              "      <td>1289.520550</td>\n",
              "      <td>0.976534</td>\n",
              "      <td>9.727394</td>\n",
              "      <td>4396.343080</td>\n",
              "      <td>0.360587</td>\n",
              "      <td>0.407565</td>\n",
              "      <td>0.002099</td>\n",
              "      <td>0.343367</td>\n",
              "      <td>-0.601388</td>\n",
              "      <td>0.543525</td>\n",
              "      <td>671.0</td>\n",
              "      <td>452.0</td>\n",
              "      <td>-0.458957</td>\n",
              "      <td>1.0</td>\n",
              "      <td>0.0</td>\n",
              "    </tr>\n",
              "    <tr>\n",
              "      <th>142</th>\n",
              "      <td>0.950834</td>\n",
              "      <td>689.464257</td>\n",
              "      <td>0.742304</td>\n",
              "      <td>1336.702720</td>\n",
              "      <td>0.975604</td>\n",
              "      <td>10.292349</td>\n",
              "      <td>4657.346623</td>\n",
              "      <td>0.373523</td>\n",
              "      <td>0.425806</td>\n",
              "      <td>0.002325</td>\n",
              "      <td>0.353468</td>\n",
              "      <td>-0.621881</td>\n",
              "      <td>0.564615</td>\n",
              "      <td>722.0</td>\n",
              "      <td>407.0</td>\n",
              "      <td>-0.486974</td>\n",
              "      <td>1.0</td>\n",
              "      <td>0.0</td>\n",
              "    </tr>\n",
              "    <tr>\n",
              "      <th>143</th>\n",
              "      <td>0.952503</td>\n",
              "      <td>589.421057</td>\n",
              "      <td>0.773364</td>\n",
              "      <td>1299.401206</td>\n",
              "      <td>0.976401</td>\n",
              "      <td>10.151155</td>\n",
              "      <td>4608.183767</td>\n",
              "      <td>0.363285</td>\n",
              "      <td>0.413494</td>\n",
              "      <td>0.002252</td>\n",
              "      <td>0.343059</td>\n",
              "      <td>-0.652865</td>\n",
              "      <td>0.574417</td>\n",
              "      <td>715.0</td>\n",
              "      <td>421.0</td>\n",
              "      <td>-0.517696</td>\n",
              "      <td>1.0</td>\n",
              "      <td>0.0</td>\n",
              "    </tr>\n",
              "    <tr>\n",
              "      <th>144</th>\n",
              "      <td>0.957296</td>\n",
              "      <td>572.162197</td>\n",
              "      <td>0.757797</td>\n",
              "      <td>1180.293052</td>\n",
              "      <td>0.978767</td>\n",
              "      <td>9.134625</td>\n",
              "      <td>4149.010012</td>\n",
              "      <td>0.327962</td>\n",
              "      <td>0.371427</td>\n",
              "      <td>0.002341</td>\n",
              "      <td>0.311474</td>\n",
              "      <td>-0.661926</td>\n",
              "      <td>0.554368</td>\n",
              "      <td>638.0</td>\n",
              "      <td>407.0</td>\n",
              "      <td>-0.516119</td>\n",
              "      <td>1.0</td>\n",
              "      <td>0.0</td>\n",
              "    </tr>\n",
              "  </tbody>\n",
              "</table>\n",
              "<p>145 rows × 18 columns</p>\n",
              "</div>"
            ],
            "text/plain": [
              "     Angular Second Moment     Contrast  Correlation  ...  orientation  Tipo  Grado\n",
              "0                 0.918319  1969.484929     0.698848  ...    -0.973472   1.0    1.0\n",
              "1                 0.918305  1898.525912     0.711276  ...    -0.971478   1.0    1.0\n",
              "2                 0.917525  1770.303688     0.738522  ...    -0.940886   1.0    1.0\n",
              "3                 0.920407  1665.463845     0.744042  ...    -0.941628   1.0    1.0\n",
              "4                 0.926260  1691.827750     0.718446  ...    -0.973915   1.0    1.0\n",
              "..                     ...          ...          ...  ...          ...   ...    ...\n",
              "140               0.955249   866.627589     0.660656  ...    -0.451502   1.0    0.0\n",
              "141               0.952818   761.739118     0.704816  ...    -0.458957   1.0    0.0\n",
              "142               0.950834   689.464257     0.742304  ...    -0.486974   1.0    0.0\n",
              "143               0.952503   589.421057     0.773364  ...    -0.517696   1.0    0.0\n",
              "144               0.957296   572.162197     0.757797  ...    -0.516119   1.0    0.0\n",
              "\n",
              "[145 rows x 18 columns]"
            ]
          },
          "metadata": {
            "tags": []
          },
          "execution_count": 111
        }
      ]
    },
    {
      "cell_type": "markdown",
      "metadata": {
        "id": "DeJG-AvIi66T"
      },
      "source": [
        "\r\n",
        "# Analisís por logistico\r\n",
        "\r\n",
        "Se crea un modelo logistico para el analisís de a que tipo de grupo pertenece\r\n"
      ]
    },
    {
      "cell_type": "code",
      "metadata": {
        "colab": {
          "base_uri": "https://localhost:8080/"
        },
        "id": "_GqwT3hojgbp",
        "outputId": "950d0994-b50b-460e-cfc0-aa50e0ae854f"
      },
      "source": [
        "from sklearn import datasets, linear_model\r\n",
        "from sklearn.model_selection import train_test_split\r\n",
        "\r\n",
        "x = df.drop(['Grado'],1)\r\n",
        "y = df['Grado']\r\n",
        "\r\n",
        "#dividimos los datos en entrenamiento y prueba\r\n",
        "x_train,x_test,y_train,y_test=train_test_split(x,y,test_size=0.2)\r\n",
        "\r\n",
        "model = linear_model.LogisticRegression()\r\n",
        "model.fit(x_train,y_train)"
      ],
      "execution_count": null,
      "outputs": [
        {
          "output_type": "stream",
          "text": [
            "/usr/local/lib/python3.6/dist-packages/sklearn/linear_model/_logistic.py:940: ConvergenceWarning: lbfgs failed to converge (status=1):\n",
            "STOP: TOTAL NO. of ITERATIONS REACHED LIMIT.\n",
            "\n",
            "Increase the number of iterations (max_iter) or scale the data as shown in:\n",
            "    https://scikit-learn.org/stable/modules/preprocessing.html\n",
            "Please also refer to the documentation for alternative solver options:\n",
            "    https://scikit-learn.org/stable/modules/linear_model.html#logistic-regression\n",
            "  extra_warning_msg=_LOGISTIC_SOLVER_CONVERGENCE_MSG)\n"
          ],
          "name": "stderr"
        },
        {
          "output_type": "execute_result",
          "data": {
            "text/plain": [
              "LogisticRegression(C=1.0, class_weight=None, dual=False, fit_intercept=True,\n",
              "                   intercept_scaling=1, l1_ratio=None, max_iter=100,\n",
              "                   multi_class='auto', n_jobs=None, penalty='l2',\n",
              "                   random_state=None, solver='lbfgs', tol=0.0001, verbose=0,\n",
              "                   warm_start=False)"
            ]
          },
          "metadata": {
            "tags": []
          },
          "execution_count": 112
        }
      ]
    },
    {
      "cell_type": "code",
      "metadata": {
        "colab": {
          "base_uri": "https://localhost:8080/"
        },
        "id": "5qJVHSuYkOx6",
        "outputId": "f73d4677-9aee-4c43-96d6-6b2a782f2e58"
      },
      "source": [
        "print(pd.DataFrame(model.predict(x_test),y_test ))\r\n",
        "print(model.score(x_test,y_test))"
      ],
      "execution_count": null,
      "outputs": [
        {
          "output_type": "stream",
          "text": [
            "         0\n",
            "Grado     \n",
            "1.0    1.0\n",
            "0.0    1.0\n",
            "1.0    0.0\n",
            "1.0    1.0\n",
            "0.0    0.0\n",
            "0.0    1.0\n",
            "0.0    0.0\n",
            "1.0    1.0\n",
            "1.0    0.0\n",
            "1.0    1.0\n",
            "1.0    0.0\n",
            "0.0    1.0\n",
            "1.0    1.0\n",
            "1.0    0.0\n",
            "1.0    1.0\n",
            "1.0    1.0\n",
            "1.0    0.0\n",
            "1.0    1.0\n",
            "1.0    1.0\n",
            "1.0    1.0\n",
            "0.0    0.0\n",
            "0.0    0.0\n",
            "1.0    1.0\n",
            "1.0    1.0\n",
            "1.0    1.0\n",
            "1.0    1.0\n",
            "1.0    1.0\n",
            "0.0    0.0\n",
            "1.0    0.0\n",
            "0.6896551724137931\n"
          ],
          "name": "stdout"
        }
      ]
    },
    {
      "cell_type": "code",
      "metadata": {
        "colab": {
          "base_uri": "https://localhost:8080/"
        },
        "id": "1EbgSenCkLql",
        "outputId": "a220975b-d55b-4b21-f6fb-3231b45bf137"
      },
      "source": [
        "from sklearn.metrics import confusion_matrix\r\n",
        "a=confusion_matrix(y_test, pred)\r\n",
        "print(confusion_matrix(y_test, pred))\r\n",
        "sensi=a[0,0]/(a[0,0]+a[0,1])\r\n",
        "Especi=a[1,1]/(a[1,1]+a[1,0])\r\n",
        "acur=(a[1,1]+a[0,0])/a.sum()\r\n",
        "print(\"\\n\\n Especificidad\",Especi)\r\n",
        "print(\"\\n\\n Sensibilidad\",sensi)\r\n",
        "print(\"\\n\\n Accuracy\",acur)\r\n",
        "print(\"\\n\\n Con este modelo se tuvo 4 Falsos Falsos\")\r\n",
        "print(\" Con este modelo se tuvo 3 Falsos Positivos\")\r\n",
        "print(\" Con este modelo se tuvo 16 Positivos Positivos\")\r\n",
        "print(\" Con este modelo se tuvo 6 Positivos Falsos\")"
      ],
      "execution_count": null,
      "outputs": [
        {
          "output_type": "stream",
          "text": [
            "[[ 2  6]\n",
            " [ 8 13]]\n",
            "\n",
            "\n",
            " Especificidad 0.6190476190476191\n",
            "\n",
            "\n",
            " Sensibilidad 0.25\n",
            "\n",
            "\n",
            " Accuracy 0.5172413793103449\n",
            "\n",
            "\n",
            " Con este modelo se tuvo 4 Falsos Falsos\n",
            " Con este modelo se tuvo 3 Falsos Positivos\n",
            " Con este modelo se tuvo 16 Positivos Positivos\n",
            " Con este modelo se tuvo 6 Positivos Falsos\n"
          ],
          "name": "stdout"
        }
      ]
    },
    {
      "cell_type": "code",
      "metadata": {
        "colab": {
          "base_uri": "https://localhost:8080/"
        },
        "id": "u-V-6tU_wSYd",
        "outputId": "7e20afa6-1cbb-49c2-9808-daf5c415e211"
      },
      "source": [
        "from sklearn.metrics import classification_report\r\n",
        "\r\n",
        "print(classification_report(y_test, model.predict(x_test)))"
      ],
      "execution_count": null,
      "outputs": [
        {
          "output_type": "stream",
          "text": [
            "              precision    recall  f1-score   support\n",
            "\n",
            "         0.0       0.45      0.62      0.53         8\n",
            "         1.0       0.83      0.71      0.77        21\n",
            "\n",
            "    accuracy                           0.69        29\n",
            "   macro avg       0.64      0.67      0.65        29\n",
            "weighted avg       0.73      0.69      0.70        29\n",
            "\n"
          ],
          "name": "stdout"
        }
      ]
    },
    {
      "cell_type": "markdown",
      "metadata": {
        "id": "M-3Ku7Rtzpjg"
      },
      "source": [
        "# Ajustes por vecinos más cercanos\r\n",
        "\r\n",
        "Se usa el vecino el vecino más cerca"
      ]
    },
    {
      "cell_type": "code",
      "metadata": {
        "colab": {
          "base_uri": "https://localhost:8080/",
          "height": 381
        },
        "id": "3mrL7JIg2mLB",
        "outputId": "3efb305f-e406-4048-9cad-4d279ca30fa6"
      },
      "source": [
        "from sklearn.neighbors import KNeighborsClassifier\r\n",
        "\r\n",
        "#selección de k optimo\r\n",
        "k_range = range(1, 20)\r\n",
        "scores = []\r\n",
        "for k in k_range:\r\n",
        "    knn = KNeighborsClassifier(n_neighbors = k)\r\n",
        "    knn.fit(x_train, y_train)\r\n",
        "    scores.append(knn.score(x_test, y_test))\r\n",
        "plt.figure()\r\n",
        "plt.xlabel('k')\r\n",
        "plt.ylabel('accuracy')\r\n",
        "plt.scatter(k_range, scores)\r\n",
        "plt.xticks([0,5,10,15,20])"
      ],
      "execution_count": null,
      "outputs": [
        {
          "output_type": "execute_result",
          "data": {
            "text/plain": [
              "([<matplotlib.axis.XTick at 0x7f3ebd31c0b8>,\n",
              "  <matplotlib.axis.XTick at 0x7f3ebd31c940>,\n",
              "  <matplotlib.axis.XTick at 0x7f3ebd3050b8>,\n",
              "  <matplotlib.axis.XTick at 0x7f3ebef13c50>,\n",
              "  <matplotlib.axis.XTick at 0x7f3ebe359dd8>],\n",
              " <a list of 5 Text major ticklabel objects>)"
            ]
          },
          "metadata": {
            "tags": []
          },
          "execution_count": 116
        },
        {
          "output_type": "display_data",
          "data": {
            "image/png": "[encoded data removed]",
            "text/plain": [
              "<Figure size 432x288 with 1 Axes>"
            ]
          },
          "metadata": {
            "tags": [],
            "needs_background": "light"
          }
        }
      ]
    },
    {
      "cell_type": "code",
      "metadata": {
        "colab": {
          "base_uri": "https://localhost:8080/"
        },
        "id": "c5B5BPkg4zH5",
        "outputId": "af0df286-d0e2-48b1-b14b-7be625c54846"
      },
      "source": [
        "n_neighbors = 2\r\n",
        "\r\n",
        "knn = KNeighborsClassifier(n_neighbors)\r\n",
        "knn.fit(x_train, y_train)\r\n",
        "print('Accuracy de K-NN classifier sobre train: {:.2f}'\r\n",
        "     .format(knn.score(x_train, y_train)))\r\n",
        "print('Accuracy de K-NN classifier sobre test: {:.2f}'\r\n",
        "     .format(knn.score(x_test, y_test)))"
      ],
      "execution_count": null,
      "outputs": [
        {
          "output_type": "stream",
          "text": [
            "Accuracy de K-NN classifier sobre train: 0.99\n",
            "Accuracy de K-NN classifier sobre test: 0.97\n"
          ],
          "name": "stdout"
        }
      ]
    },
    {
      "cell_type": "code",
      "metadata": {
        "colab": {
          "base_uri": "https://localhost:8080/"
        },
        "id": "4V0wOeW35DPS",
        "outputId": "4f5da440-3135-4b01-fa51-55c5cd6e409a"
      },
      "source": [
        "pred = knn.predict(x_test)\r\n",
        "print(\"Matriz de confunción\")\r\n",
        "a=confusion_matrix(y_test, pred)\r\n",
        "print(confusion_matrix(y_test, pred))\r\n",
        "sensi=a[0,0]/(a[0,0]+a[0,1])\r\n",
        "Especi=a[1,1]/(a[1,1]+a[1,0])\r\n",
        "acur=(a[1,1]+a[0,0])/a.sum()\r\n",
        "print(\"\\n\\n Especificidad\",Especi)\r\n",
        "print(\"\\n\\n Sensibilidad\",sensi)\r\n",
        "print(\"\\n\\n Accuracy\",acur)\r\n",
        "print(\"\\n\\n Con este modelo se tuvo 10 Falsos Falsos Especificidad\")\r\n",
        "print(\" Con este modelo se tuvo 1 Falsos Positivos\")\r\n",
        "print(\" Con este modelo se tuvo 18 Positivos Positivos Sensibilidad\")\r\n",
        "print(\" Con este modelo se tuvo 0 Positivos Falsos\")\r\n",
        "print(\"\\n\\n\\n\")\r\n",
        "print(classification_report(y_test, pred))"
      ],
      "execution_count": null,
      "outputs": [
        {
          "output_type": "stream",
          "text": [
            "Matriz de confunción\n",
            "[[ 8  0]\n",
            " [ 1 20]]\n",
            "\n",
            "\n",
            " Especificidad 0.9523809523809523\n",
            "\n",
            "\n",
            " Sensibilidad 1.0\n",
            "\n",
            "\n",
            " Accuracy 0.9655172413793104\n",
            "\n",
            "\n",
            " Con este modelo se tuvo 10 Falsos Falsos Especificidad\n",
            " Con este modelo se tuvo 1 Falsos Positivos\n",
            " Con este modelo se tuvo 18 Positivos Positivos Sensibilidad\n",
            " Con este modelo se tuvo 0 Positivos Falsos\n",
            "\n",
            "\n",
            "\n",
            "\n",
            "              precision    recall  f1-score   support\n",
            "\n",
            "         0.0       0.89      1.00      0.94         8\n",
            "         1.0       1.00      0.95      0.98        21\n",
            "\n",
            "    accuracy                           0.97        29\n",
            "   macro avg       0.94      0.98      0.96        29\n",
            "weighted avg       0.97      0.97      0.97        29\n",
            "\n"
          ],
          "name": "stdout"
        }
      ]
    }
  ]
}